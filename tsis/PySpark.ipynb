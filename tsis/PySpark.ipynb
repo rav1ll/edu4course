{
 "nbformat": 4,
 "nbformat_minor": 0,
 "metadata": {
  "colab": {
   "provenance": []
  },
  "kernelspec": {
   "display_name": "Python 3",
   "language": "python",
   "name": "python3"
  },
  "language_info": {
   "codemirror_mode": {
    "name": "ipython",
    "version": 3
   },
   "file_extension": ".py",
   "mimetype": "text/x-python",
   "name": "python",
   "nbconvert_exporter": "python",
   "pygments_lexer": "ipython3",
   "version": "3.6.5"
  }
 },
 "cells": [
  {
   "cell_type": "markdown",
   "metadata": {
    "id": "Dd6t0uFzuR4X"
   },
   "source": [
    "### Установка Spark"
   ]
  },
  {
   "cell_type": "code",
   "metadata": {
    "id": "tt7ZS1_wGgjn",
    "is_executing": true
   },
   "source": [
    "!apt-get install openjdk-8-jdk-headless -qq > /dev/null\n",
    "!wget -q http://archive.apache.org/dist/spark/spark-3.4.1/spark-3.4.1-bin-hadoop3.tgz\n",
    "!tar xf spark-3.4.1-bin-hadoop3.tgz\n",
    "!pip install -q findspark"
   ],
   "execution_count": null,
   "outputs": []
  },
  {
   "cell_type": "markdown",
   "metadata": {
    "id": "C3x0ZRLxjMVr"
   },
   "source": [
    "Установка переменных среды:"
   ]
  },
  {
   "cell_type": "code",
   "metadata": {
    "id": "sdOOq4twHN1K",
    "is_executing": true
   },
   "source": [
    "import os\n",
    "os.environ[\"JAVA_HOME\"] = \"/usr/lib/jvm/java-8-openjdk-amd64\"\n",
    "os.environ[\"SPARK_HOME\"] = \"/content/spark-3.4.1-bin-hadoop3\""
   ],
   "execution_count": null,
   "outputs": []
  },
  {
   "cell_type": "code",
   "metadata": {
    "id": "3ACYMwhgHTYz",
    "colab": {
     "base_uri": "https://localhost:8080/"
    },
    "outputId": "89012c5e-e51c-49d6-a700-a54ec7197079",
    "is_executing": true
   },
   "source": [
    "!ls"
   ],
   "execution_count": null,
   "outputs": []
  },
  {
   "cell_type": "code",
   "metadata": {
    "id": "KR1zLBk1998Z",
    "colab": {
     "base_uri": "https://localhost:8080/",
     "height": 216
    },
    "outputId": "ca2cb768-c2e5-45c9-c159-7bee2e237101",
    "is_executing": true
   },
   "source": [
    "import findspark\n",
    "findspark.init()\n",
    "from pyspark.sql import SparkSession\n",
    "spark = SparkSession.builder.master(\"local[*]\").getOrCreate()\n",
    "spark.conf.set(\"spark.sql.repl.eagerEval.enabled\", True)\n",
    "spark"
   ],
   "execution_count": null,
   "outputs": []
  },
  {
   "cell_type": "markdown",
   "metadata": {
    "id": "VZwsr57lwPgq"
   },
   "source": [
    "### Загружаем датасет"
   ]
  },
  {
   "cell_type": "code",
   "metadata": {
    "id": "hQ3zmGACLKlN",
    "colab": {
     "base_uri": "https://localhost:8080/"
    },
    "outputId": "efbd316f-0267-41e0-f2b1-21cad9d4f90a",
    "is_executing": true
   },
   "source": [
    "!wget https://jacobceles.github.io/knowledge_repo/colab_and_pyspark/cars.csv"
   ],
   "execution_count": null,
   "outputs": []
  },
  {
   "cell_type": "code",
   "metadata": {
    "id": "Wpq2jYvIMOJy",
    "colab": {
     "base_uri": "https://localhost:8080/"
    },
    "outputId": "58a8944b-578f-4ea7-f2e0-acd0e39c3fb7",
    "is_executing": true
   },
   "source": [
    "!ls -lh"
   ],
   "execution_count": null,
   "outputs": []
  },
  {
   "cell_type": "code",
   "metadata": {
    "id": "hz6ALr5mMqZt",
    "colab": {
     "base_uri": "https://localhost:8080/"
    },
    "outputId": "af3e4bcf-f148-4aae-9aa0-ceeec517b049"
   },
   "source": [
    "df = spark.read.csv('cars.csv', header=True, sep=\";\")\n",
    "df.show(5)"
   ],
   "execution_count": null,
   "outputs": [
    {
     "output_type": "stream",
     "name": "stdout",
     "text": [
      "+--------------------+----+---------+------------+----------+------+------------+-----+------+\n",
      "|                 Car| MPG|Cylinders|Displacement|Horsepower|Weight|Acceleration|Model|Origin|\n",
      "+--------------------+----+---------+------------+----------+------+------------+-----+------+\n",
      "|Chevrolet Chevell...|18.0|        8|       307.0|     130.0| 3504.|        12.0|   70|    US|\n",
      "|   Buick Skylark 320|15.0|        8|       350.0|     165.0| 3693.|        11.5|   70|    US|\n",
      "|  Plymouth Satellite|18.0|        8|       318.0|     150.0| 3436.|        11.0|   70|    US|\n",
      "|       AMC Rebel SST|16.0|        8|       304.0|     150.0| 3433.|        12.0|   70|    US|\n",
      "|         Ford Torino|17.0|        8|       302.0|     140.0| 3449.|        10.5|   70|    US|\n",
      "+--------------------+----+---------+------------+----------+------+------------+-----+------+\n"
     ]
    }
   ]
  },
  {
   "cell_type": "code",
   "metadata": {
    "colab": {
     "base_uri": "https://localhost:8080/"
    },
    "id": "I1qqkqcfxM0v",
    "outputId": "53f73f0d-6f21-441f-aec1-9b6dddeb3e80"
   },
   "source": [
    "df.show(5, truncate=False)"
   ],
   "execution_count": null,
   "outputs": [
    {
     "output_type": "stream",
     "name": "stdout",
     "text": [
      "+-------------------------+----+---------+------------+----------+------+------------+-----+------+\n",
      "|Car                      |MPG |Cylinders|Displacement|Horsepower|Weight|Acceleration|Model|Origin|\n",
      "+-------------------------+----+---------+------------+----------+------+------------+-----+------+\n",
      "|Chevrolet Chevelle Malibu|18.0|8        |307.0       |130.0     |3504. |12.0        |70   |US    |\n",
      "|Buick Skylark 320        |15.0|8        |350.0       |165.0     |3693. |11.5        |70   |US    |\n",
      "|Plymouth Satellite       |18.0|8        |318.0       |150.0     |3436. |11.0        |70   |US    |\n",
      "|AMC Rebel SST            |16.0|8        |304.0       |150.0     |3433. |12.0        |70   |US    |\n",
      "|Ford Torino              |17.0|8        |302.0       |140.0     |3449. |10.5        |70   |US    |\n",
      "+-------------------------+----+---------+------------+----------+------+------------+-----+------+\n"
     ]
    }
   ]
  },
  {
   "cell_type": "code",
   "metadata": {
    "colab": {
     "base_uri": "https://localhost:8080/",
     "height": 159
    },
    "id": "R9zwzswIxXF9",
    "outputId": "3a05b7d1-a551-487a-83e1-59e11e958bc1"
   },
   "source": [
    "df.limit(5)"
   ],
   "execution_count": null,
   "outputs": [
    {
     "output_type": "execute_result",
     "data": {
      "text/plain": [
       "+--------------------+----+---------+------------+----------+------+------------+-----+------+\n",
       "|                 Car| MPG|Cylinders|Displacement|Horsepower|Weight|Acceleration|Model|Origin|\n",
       "+--------------------+----+---------+------------+----------+------+------------+-----+------+\n",
       "|Chevrolet Chevell...|18.0|        8|       307.0|     130.0| 3504.|        12.0|   70|    US|\n",
       "|   Buick Skylark 320|15.0|        8|       350.0|     165.0| 3693.|        11.5|   70|    US|\n",
       "|  Plymouth Satellite|18.0|        8|       318.0|     150.0| 3436.|        11.0|   70|    US|\n",
       "|       AMC Rebel SST|16.0|        8|       304.0|     150.0| 3433.|        12.0|   70|    US|\n",
       "|         Ford Torino|17.0|        8|       302.0|     140.0| 3449.|        10.5|   70|    US|\n",
       "+--------------------+----+---------+------------+----------+------+------------+-----+------+"
      ],
      "text/html": [
       "<table border='1'>\n",
       "<tr><th>Car</th><th>MPG</th><th>Cylinders</th><th>Displacement</th><th>Horsepower</th><th>Weight</th><th>Acceleration</th><th>Model</th><th>Origin</th></tr>\n",
       "<tr><td>Chevrolet Chevell...</td><td>18.0</td><td>8</td><td>307.0</td><td>130.0</td><td>3504.</td><td>12.0</td><td>70</td><td>US</td></tr>\n",
       "<tr><td>Buick Skylark 320</td><td>15.0</td><td>8</td><td>350.0</td><td>165.0</td><td>3693.</td><td>11.5</td><td>70</td><td>US</td></tr>\n",
       "<tr><td>Plymouth Satellite</td><td>18.0</td><td>8</td><td>318.0</td><td>150.0</td><td>3436.</td><td>11.0</td><td>70</td><td>US</td></tr>\n",
       "<tr><td>AMC Rebel SST</td><td>16.0</td><td>8</td><td>304.0</td><td>150.0</td><td>3433.</td><td>12.0</td><td>70</td><td>US</td></tr>\n",
       "<tr><td>Ford Torino</td><td>17.0</td><td>8</td><td>302.0</td><td>140.0</td><td>3449.</td><td>10.5</td><td>70</td><td>US</td></tr>\n",
       "</table>\n"
      ]
     },
     "metadata": {},
     "execution_count": 9
    }
   ]
  },
  {
   "cell_type": "code",
   "metadata": {
    "colab": {
     "base_uri": "https://localhost:8080/"
    },
    "id": "9o7jsazcu-13",
    "outputId": "5640ed31-dd1b-4d20-eb02-74cb4212e4a9"
   },
   "source": [
    "df.columns"
   ],
   "execution_count": null,
   "outputs": [
    {
     "output_type": "execute_result",
     "data": {
      "text/plain": [
       "['Car',\n",
       " 'MPG',\n",
       " 'Cylinders',\n",
       " 'Displacement',\n",
       " 'Horsepower',\n",
       " 'Weight',\n",
       " 'Acceleration',\n",
       " 'Model',\n",
       " 'Origin']"
      ]
     },
     "metadata": {},
     "execution_count": 10
    }
   ]
  },
  {
   "cell_type": "markdown",
   "metadata": {
    "id": "3lfS2DhHuhPl"
   },
   "source": [
    "### Схема данных"
   ]
  },
  {
   "cell_type": "code",
   "metadata": {
    "id": "w6qwTjGsNxrw",
    "colab": {
     "base_uri": "https://localhost:8080/"
    },
    "outputId": "d7f1b8e5-9028-4fbb-8922-5ed396d04ab2"
   },
   "source": [
    "df.dtypes"
   ],
   "execution_count": null,
   "outputs": [
    {
     "output_type": "execute_result",
     "data": {
      "text/plain": [
       "[('Car', 'string'),\n",
       " ('MPG', 'string'),\n",
       " ('Cylinders', 'string'),\n",
       " ('Displacement', 'string'),\n",
       " ('Horsepower', 'string'),\n",
       " ('Weight', 'string'),\n",
       " ('Acceleration', 'string'),\n",
       " ('Model', 'string'),\n",
       " ('Origin', 'string')]"
      ]
     },
     "metadata": {},
     "execution_count": 11
    }
   ]
  },
  {
   "cell_type": "code",
   "metadata": {
    "id": "CCGTFlCWRPw4",
    "colab": {
     "base_uri": "https://localhost:8080/"
    },
    "outputId": "80da9a9c-3f09-4b5d-f88d-460fc4f22159"
   },
   "source": [
    "df.printSchema()"
   ],
   "execution_count": null,
   "outputs": [
    {
     "output_type": "stream",
     "name": "stdout",
     "text": [
      "root\n",
      " |-- Car: string (nullable = true)\n",
      " |-- MPG: string (nullable = true)\n",
      " |-- Cylinders: string (nullable = true)\n",
      " |-- Displacement: string (nullable = true)\n",
      " |-- Horsepower: string (nullable = true)\n",
      " |-- Weight: string (nullable = true)\n",
      " |-- Acceleration: string (nullable = true)\n",
      " |-- Model: string (nullable = true)\n",
      " |-- Origin: string (nullable = true)\n"
     ]
    }
   ]
  },
  {
   "cell_type": "code",
   "metadata": {
    "colab": {
     "base_uri": "https://localhost:8080/"
    },
    "id": "Qym5MjCi894N",
    "outputId": "81f88858-795e-427a-b7ef-733c3b9bfa7d"
   },
   "source": [
    "df = spark.read.csv('cars.csv', header=True, sep=\";\", inferSchema=True)\n",
    "df.printSchema()"
   ],
   "execution_count": null,
   "outputs": [
    {
     "output_type": "stream",
     "name": "stdout",
     "text": [
      "root\n",
      " |-- Car: string (nullable = true)\n",
      " |-- MPG: double (nullable = true)\n",
      " |-- Cylinders: integer (nullable = true)\n",
      " |-- Displacement: double (nullable = true)\n",
      " |-- Horsepower: double (nullable = true)\n",
      " |-- Weight: decimal(4,0) (nullable = true)\n",
      " |-- Acceleration: double (nullable = true)\n",
      " |-- Model: integer (nullable = true)\n",
      " |-- Origin: string (nullable = true)\n"
     ]
    }
   ]
  },
  {
   "cell_type": "code",
   "metadata": {
    "id": "xpsaQ4JMRUiS",
    "colab": {
     "base_uri": "https://localhost:8080/"
    },
    "outputId": "e0cbe5ca-ed19-4192-ea07-5d133d65b3e5"
   },
   "source": [
    "from pyspark.sql.types import *\n",
    "df.columns"
   ],
   "execution_count": null,
   "outputs": [
    {
     "output_type": "execute_result",
     "data": {
      "text/plain": [
       "['Car',\n",
       " 'MPG',\n",
       " 'Cylinders',\n",
       " 'Displacement',\n",
       " 'Horsepower',\n",
       " 'Weight',\n",
       " 'Acceleration',\n",
       " 'Model',\n",
       " 'Origin']"
      ]
     },
     "metadata": {},
     "execution_count": 14
    }
   ]
  },
  {
   "cell_type": "code",
   "metadata": {
    "id": "ik62VX34SlFh"
   },
   "source": [
    "# Creating a list of the schema in the format column_name, data_type\n",
    "labels = [\n",
    "     ('Car',StringType()),\n",
    "     ('MPG',DoubleType()),\n",
    "     ('Cylinders',IntegerType()),\n",
    "     ('Displacement',DoubleType()),\n",
    "     ('Horsepower',DoubleType()),\n",
    "     ('Weight',DoubleType()),\n",
    "     ('Acceleration',DoubleType()),\n",
    "     ('Model',IntegerType()),\n",
    "     ('Origin',StringType())\n",
    "]"
   ],
   "execution_count": null,
   "outputs": []
  },
  {
   "cell_type": "code",
   "metadata": {
    "id": "T-Fp5y_oU9SF",
    "colab": {
     "base_uri": "https://localhost:8080/"
    },
    "outputId": "700678e8-3f6c-4f9e-9a94-5b74ff24a4a4"
   },
   "source": [
    "schema = StructType([StructField (x[0], x[1], True) for x in labels])\n",
    "schema"
   ],
   "execution_count": null,
   "outputs": [
    {
     "output_type": "execute_result",
     "data": {
      "text/plain": [
       "StructType([StructField('Car', StringType(), True), StructField('MPG', DoubleType(), True), StructField('Cylinders', IntegerType(), True), StructField('Displacement', DoubleType(), True), StructField('Horsepower', DoubleType(), True), StructField('Weight', DoubleType(), True), StructField('Acceleration', DoubleType(), True), StructField('Model', IntegerType(), True), StructField('Origin', StringType(), True)])"
      ]
     },
     "metadata": {},
     "execution_count": 16
    }
   ]
  },
  {
   "cell_type": "code",
   "metadata": {
    "id": "sgC7gtL5VTls",
    "colab": {
     "base_uri": "https://localhost:8080/"
    },
    "outputId": "bb600228-ec34-49a7-ede8-9bc0fb2e8824"
   },
   "source": [
    "df = spark.read.csv('cars.csv', header=True, sep=\";\", schema=schema)\n",
    "df.printSchema()"
   ],
   "execution_count": null,
   "outputs": [
    {
     "output_type": "stream",
     "name": "stdout",
     "text": [
      "root\n",
      " |-- Car: string (nullable = true)\n",
      " |-- MPG: double (nullable = true)\n",
      " |-- Cylinders: integer (nullable = true)\n",
      " |-- Displacement: double (nullable = true)\n",
      " |-- Horsepower: double (nullable = true)\n",
      " |-- Weight: double (nullable = true)\n",
      " |-- Acceleration: double (nullable = true)\n",
      " |-- Model: integer (nullable = true)\n",
      " |-- Origin: string (nullable = true)\n"
     ]
    }
   ]
  },
  {
   "cell_type": "code",
   "metadata": {
    "id": "Dn2EAhesVmx0",
    "colab": {
     "base_uri": "https://localhost:8080/"
    },
    "outputId": "d36ae312-a1d3-48f3-ab39-860574b9517f"
   },
   "source": [
    "df.show(truncate=False)"
   ],
   "execution_count": null,
   "outputs": [
    {
     "output_type": "stream",
     "name": "stdout",
     "text": [
      "+--------------------------------+----+---------+------------+----------+------+------------+-----+------+\n",
      "|Car                             |MPG |Cylinders|Displacement|Horsepower|Weight|Acceleration|Model|Origin|\n",
      "+--------------------------------+----+---------+------------+----------+------+------------+-----+------+\n",
      "|Chevrolet Chevelle Malibu       |18.0|8        |307.0       |130.0     |3504.0|12.0        |70   |US    |\n",
      "|Buick Skylark 320               |15.0|8        |350.0       |165.0     |3693.0|11.5        |70   |US    |\n",
      "|Plymouth Satellite              |18.0|8        |318.0       |150.0     |3436.0|11.0        |70   |US    |\n",
      "|AMC Rebel SST                   |16.0|8        |304.0       |150.0     |3433.0|12.0        |70   |US    |\n",
      "|Ford Torino                     |17.0|8        |302.0       |140.0     |3449.0|10.5        |70   |US    |\n",
      "|Ford Galaxie 500                |15.0|8        |429.0       |198.0     |4341.0|10.0        |70   |US    |\n",
      "|Chevrolet Impala                |14.0|8        |454.0       |220.0     |4354.0|9.0         |70   |US    |\n",
      "|Plymouth Fury iii               |14.0|8        |440.0       |215.0     |4312.0|8.5         |70   |US    |\n",
      "|Pontiac Catalina                |14.0|8        |455.0       |225.0     |4425.0|10.0        |70   |US    |\n",
      "|AMC Ambassador DPL              |15.0|8        |390.0       |190.0     |3850.0|8.5         |70   |US    |\n",
      "|Citroen DS-21 Pallas            |0.0 |4        |133.0       |115.0     |3090.0|17.5        |70   |Europe|\n",
      "|Chevrolet Chevelle Concours (sw)|0.0 |8        |350.0       |165.0     |4142.0|11.5        |70   |US    |\n",
      "|Ford Torino (sw)                |0.0 |8        |351.0       |153.0     |4034.0|11.0        |70   |US    |\n",
      "|Plymouth Satellite (sw)         |0.0 |8        |383.0       |175.0     |4166.0|10.5        |70   |US    |\n",
      "|AMC Rebel SST (sw)              |0.0 |8        |360.0       |175.0     |3850.0|11.0        |70   |US    |\n",
      "|Dodge Challenger SE             |15.0|8        |383.0       |170.0     |3563.0|10.0        |70   |US    |\n",
      "|Plymouth 'Cuda 340              |14.0|8        |340.0       |160.0     |3609.0|8.0         |70   |US    |\n",
      "|Ford Mustang Boss 302           |0.0 |8        |302.0       |140.0     |3353.0|8.0         |70   |US    |\n",
      "|Chevrolet Monte Carlo           |15.0|8        |400.0       |150.0     |3761.0|9.5         |70   |US    |\n",
      "|Buick Estate Wagon (sw)         |14.0|8        |455.0       |225.0     |3086.0|10.0        |70   |US    |\n",
      "+--------------------------------+----+---------+------------+----------+------+------------+-----+------+\n"
     ]
    }
   ]
  },
  {
   "cell_type": "markdown",
   "metadata": {
    "id": "rsD48rckdHPe"
   },
   "source": [
    "## DataFrame операции над столбцами"
   ]
  },
  {
   "cell_type": "code",
   "metadata": {
    "id": "ge9-_ygideWk",
    "colab": {
     "base_uri": "https://localhost:8080/"
    },
    "outputId": "32305b0a-be92-4138-9a9f-5c4b6a435401"
   },
   "source": [
    "print(df.Car)\n",
    "\n",
    "df.select(df.Car).show(truncate=False)"
   ],
   "execution_count": null,
   "outputs": [
    {
     "output_type": "stream",
     "name": "stdout",
     "text": [
      "Column<'Car'>\n",
      "+--------------------------------+\n",
      "|Car                             |\n",
      "+--------------------------------+\n",
      "|Chevrolet Chevelle Malibu       |\n",
      "|Buick Skylark 320               |\n",
      "|Plymouth Satellite              |\n",
      "|AMC Rebel SST                   |\n",
      "|Ford Torino                     |\n",
      "|Ford Galaxie 500                |\n",
      "|Chevrolet Impala                |\n",
      "|Plymouth Fury iii               |\n",
      "|Pontiac Catalina                |\n",
      "|AMC Ambassador DPL              |\n",
      "|Citroen DS-21 Pallas            |\n",
      "|Chevrolet Chevelle Concours (sw)|\n",
      "|Ford Torino (sw)                |\n",
      "|Plymouth Satellite (sw)         |\n",
      "|AMC Rebel SST (sw)              |\n",
      "|Dodge Challenger SE             |\n",
      "|Plymouth 'Cuda 340              |\n",
      "|Ford Mustang Boss 302           |\n",
      "|Chevrolet Monte Carlo           |\n",
      "|Buick Estate Wagon (sw)         |\n",
      "+--------------------------------+\n",
      "only showing top 20 rows\n"
     ]
    }
   ]
  },
  {
   "cell_type": "code",
   "metadata": {
    "id": "md5zaET8dsr4",
    "colab": {
     "base_uri": "https://localhost:8080/"
    },
    "outputId": "12c0db0c-50dd-4e07-fda9-e75800d71a80"
   },
   "source": [
    "print(df['car'])\n",
    "\n",
    "df.select(df['car']).show(truncate=False)"
   ],
   "execution_count": null,
   "outputs": [
    {
     "output_type": "stream",
     "name": "stdout",
     "text": [
      "Column<'car'>\n",
      "+--------------------------------+\n",
      "|car                             |\n",
      "+--------------------------------+\n",
      "|Chevrolet Chevelle Malibu       |\n",
      "|Buick Skylark 320               |\n",
      "|Plymouth Satellite              |\n",
      "|AMC Rebel SST                   |\n",
      "|Ford Torino                     |\n",
      "|Ford Galaxie 500                |\n",
      "|Chevrolet Impala                |\n",
      "|Plymouth Fury iii               |\n",
      "|Pontiac Catalina                |\n",
      "|AMC Ambassador DPL              |\n",
      "|Citroen DS-21 Pallas            |\n",
      "|Chevrolet Chevelle Concours (sw)|\n",
      "|Ford Torino (sw)                |\n",
      "|Plymouth Satellite (sw)         |\n",
      "|AMC Rebel SST (sw)              |\n",
      "|Dodge Challenger SE             |\n",
      "|Plymouth 'Cuda 340              |\n",
      "|Ford Mustang Boss 302           |\n",
      "|Chevrolet Monte Carlo           |\n",
      "|Buick Estate Wagon (sw)         |\n",
      "+--------------------------------+\n",
      "only showing top 20 rows\n"
     ]
    }
   ]
  },
  {
   "cell_type": "code",
   "metadata": {
    "id": "6Gkf14sHec9a",
    "colab": {
     "base_uri": "https://localhost:8080/"
    },
    "outputId": "273f23aa-f3cd-4401-dff6-afe340a800b6"
   },
   "source": [
    "from pyspark.sql.functions import col\n",
    "df.select(col('car')).show(truncate=False)"
   ],
   "execution_count": null,
   "outputs": [
    {
     "output_type": "stream",
     "name": "stdout",
     "text": [
      "+--------------------------------+\n",
      "|car                             |\n",
      "+--------------------------------+\n",
      "|Chevrolet Chevelle Malibu       |\n",
      "|Buick Skylark 320               |\n",
      "|Plymouth Satellite              |\n",
      "|AMC Rebel SST                   |\n",
      "|Ford Torino                     |\n",
      "|Ford Galaxie 500                |\n",
      "|Chevrolet Impala                |\n",
      "|Plymouth Fury iii               |\n",
      "|Pontiac Catalina                |\n",
      "|AMC Ambassador DPL              |\n",
      "|Citroen DS-21 Pallas            |\n",
      "|Chevrolet Chevelle Concours (sw)|\n",
      "|Ford Torino (sw)                |\n",
      "|Plymouth Satellite (sw)         |\n",
      "|AMC Rebel SST (sw)              |\n",
      "|Dodge Challenger SE             |\n",
      "|Plymouth 'Cuda 340              |\n",
      "|Ford Mustang Boss 302           |\n",
      "|Chevrolet Monte Carlo           |\n",
      "|Buick Estate Wagon (sw)         |\n",
      "+--------------------------------+\n"
     ]
    }
   ]
  },
  {
   "cell_type": "code",
   "metadata": {
    "colab": {
     "base_uri": "https://localhost:8080/"
    },
    "id": "bPjLMhZ6uAQR",
    "outputId": "eddc6a8a-ecc2-4f7a-d0f4-3ccfe5aede76"
   },
   "source": [
    "print(df.Car, df.Cylinders)\n",
    "\n",
    "df.select(df.Car, df.Cylinders).show(truncate=False)"
   ],
   "execution_count": null,
   "outputs": [
    {
     "output_type": "stream",
     "name": "stdout",
     "text": [
      "Column<'Car'> Column<'Cylinders'>\n",
      "+--------------------------------+---------+\n",
      "|Car                             |Cylinders|\n",
      "+--------------------------------+---------+\n",
      "|Chevrolet Chevelle Malibu       |8        |\n",
      "|Buick Skylark 320               |8        |\n",
      "|Plymouth Satellite              |8        |\n",
      "|AMC Rebel SST                   |8        |\n",
      "|Ford Torino                     |8        |\n",
      "|Ford Galaxie 500                |8        |\n",
      "|Chevrolet Impala                |8        |\n",
      "|Plymouth Fury iii               |8        |\n",
      "|Pontiac Catalina                |8        |\n",
      "|AMC Ambassador DPL              |8        |\n",
      "|Citroen DS-21 Pallas            |4        |\n",
      "|Chevrolet Chevelle Concours (sw)|8        |\n",
      "|Ford Torino (sw)                |8        |\n",
      "|Plymouth Satellite (sw)         |8        |\n",
      "|AMC Rebel SST (sw)              |8        |\n",
      "|Dodge Challenger SE             |8        |\n",
      "|Plymouth 'Cuda 340              |8        |\n",
      "|Ford Mustang Boss 302           |8        |\n",
      "|Chevrolet Monte Carlo           |8        |\n",
      "|Buick Estate Wagon (sw)         |8        |\n",
      "+--------------------------------+---------+\n",
      "only showing top 20 rows\n"
     ]
    }
   ]
  },
  {
   "cell_type": "code",
   "metadata": {
    "colab": {
     "base_uri": "https://localhost:8080/"
    },
    "id": "DMRMUrv7uHWa",
    "outputId": "f22b5293-fafb-4ed9-ace1-648dba404b1c"
   },
   "source": [
    "print(df['car'],df['cylinders'])\n",
    "\n",
    "df.select(df['car'],df['cylinders']).show(truncate=False)"
   ],
   "execution_count": null,
   "outputs": [
    {
     "output_type": "stream",
     "name": "stdout",
     "text": [
      "Column<'car'> Column<'cylinders'>\n",
      "+--------------------------------+---------+\n",
      "|car                             |cylinders|\n",
      "+--------------------------------+---------+\n",
      "|Chevrolet Chevelle Malibu       |8        |\n",
      "|Buick Skylark 320               |8        |\n",
      "|Plymouth Satellite              |8        |\n",
      "|AMC Rebel SST                   |8        |\n",
      "|Ford Torino                     |8        |\n",
      "|Ford Galaxie 500                |8        |\n",
      "|Chevrolet Impala                |8        |\n",
      "|Plymouth Fury iii               |8        |\n",
      "|Pontiac Catalina                |8        |\n",
      "|AMC Ambassador DPL              |8        |\n",
      "|Citroen DS-21 Pallas            |4        |\n",
      "|Chevrolet Chevelle Concours (sw)|8        |\n",
      "|Ford Torino (sw)                |8        |\n",
      "|Plymouth Satellite (sw)         |8        |\n",
      "|AMC Rebel SST (sw)              |8        |\n",
      "|Dodge Challenger SE             |8        |\n",
      "|Plymouth 'Cuda 340              |8        |\n",
      "|Ford Mustang Boss 302           |8        |\n",
      "|Chevrolet Monte Carlo           |8        |\n",
      "|Buick Estate Wagon (sw)         |8        |\n",
      "+--------------------------------+---------+\n",
      "only showing top 20 rows\n"
     ]
    }
   ]
  },
  {
   "cell_type": "code",
   "metadata": {
    "colab": {
     "base_uri": "https://localhost:8080/"
    },
    "id": "RgQ20-4GugjR",
    "outputId": "9162dfac-3b16-4a7b-d11d-97a2574d36d6"
   },
   "source": [
    "from pyspark.sql.functions import col\n",
    "df.select(col('car'),col('cylinders')).show(truncate=False)"
   ],
   "execution_count": null,
   "outputs": [
    {
     "output_type": "stream",
     "name": "stdout",
     "text": [
      "+--------------------------------+---------+\n",
      "|car                             |cylinders|\n",
      "+--------------------------------+---------+\n",
      "|Chevrolet Chevelle Malibu       |8        |\n",
      "|Buick Skylark 320               |8        |\n",
      "|Plymouth Satellite              |8        |\n",
      "|AMC Rebel SST                   |8        |\n",
      "|Ford Torino                     |8        |\n",
      "|Ford Galaxie 500                |8        |\n",
      "|Chevrolet Impala                |8        |\n",
      "|Plymouth Fury iii               |8        |\n",
      "|Pontiac Catalina                |8        |\n",
      "|AMC Ambassador DPL              |8        |\n",
      "|Citroen DS-21 Pallas            |4        |\n",
      "|Chevrolet Chevelle Concours (sw)|8        |\n",
      "|Ford Torino (sw)                |8        |\n",
      "|Plymouth Satellite (sw)         |8        |\n",
      "|AMC Rebel SST (sw)              |8        |\n",
      "|Dodge Challenger SE             |8        |\n",
      "|Plymouth 'Cuda 340              |8        |\n",
      "|Ford Mustang Boss 302           |8        |\n",
      "|Chevrolet Monte Carlo           |8        |\n",
      "|Buick Estate Wagon (sw)         |8        |\n",
      "+--------------------------------+---------+\n"
     ]
    }
   ]
  },
  {
   "cell_type": "code",
   "metadata": {
    "id": "oFHUmRKZeCEV",
    "colab": {
     "base_uri": "https://localhost:8080/"
    },
    "outputId": "3056afde-f0d5-4a72-92d0-71d04ae881e6"
   },
   "source": [
    "from pyspark.sql.functions import lit\n",
    "df = df.withColumn('first_column',lit(1))\n",
    "df.show(5,truncate=False)"
   ],
   "execution_count": null,
   "outputs": [
    {
     "output_type": "stream",
     "name": "stdout",
     "text": [
      "+-------------------------+----+---------+------------+----------+------+------------+-----+------+------------+\n",
      "|Car                      |MPG |Cylinders|Displacement|Horsepower|Weight|Acceleration|Model|Origin|first_column|\n",
      "+-------------------------+----+---------+------------+----------+------+------------+-----+------+------------+\n",
      "|Chevrolet Chevelle Malibu|18.0|8        |307.0       |130.0     |3504.0|12.0        |70   |US    |1           |\n",
      "|Buick Skylark 320        |15.0|8        |350.0       |165.0     |3693.0|11.5        |70   |US    |1           |\n",
      "|Plymouth Satellite       |18.0|8        |318.0       |150.0     |3436.0|11.0        |70   |US    |1           |\n",
      "|AMC Rebel SST            |16.0|8        |304.0       |150.0     |3433.0|12.0        |70   |US    |1           |\n",
      "|Ford Torino              |17.0|8        |302.0       |140.0     |3449.0|10.5        |70   |US    |1           |\n",
      "+-------------------------+----+---------+------------+----------+------+------------+-----+------+------------+\n"
     ]
    }
   ]
  },
  {
   "cell_type": "code",
   "metadata": {
    "colab": {
     "base_uri": "https://localhost:8080/"
    },
    "id": "U9772_mHwAqL",
    "outputId": "1c0ce1f4-7642-45ab-ccb5-fa517832663c"
   },
   "source": [
    "df = df.withColumn('second_column', lit(2)) \\\n",
    "       .withColumn('third_column', lit('Third Column'))\n",
    "df.show(5,truncate=False)"
   ],
   "execution_count": null,
   "outputs": [
    {
     "output_type": "stream",
     "name": "stdout",
     "text": [
      "+-------------------------+----+---------+------------+----------+------+------------+-----+------+------------+-------------+------------+\n",
      "|Car                      |MPG |Cylinders|Displacement|Horsepower|Weight|Acceleration|Model|Origin|first_column|second_column|third_column|\n",
      "+-------------------------+----+---------+------------+----------+------+------------+-----+------+------------+-------------+------------+\n",
      "|Chevrolet Chevelle Malibu|18.0|8        |307.0       |130.0     |3504.0|12.0        |70   |US    |1           |2            |Third Column|\n",
      "|Buick Skylark 320        |15.0|8        |350.0       |165.0     |3693.0|11.5        |70   |US    |1           |2            |Third Column|\n",
      "|Plymouth Satellite       |18.0|8        |318.0       |150.0     |3436.0|11.0        |70   |US    |1           |2            |Third Column|\n",
      "|AMC Rebel SST            |16.0|8        |304.0       |150.0     |3433.0|12.0        |70   |US    |1           |2            |Third Column|\n",
      "|Ford Torino              |17.0|8        |302.0       |140.0     |3449.0|10.5        |70   |US    |1           |2            |Third Column|\n",
      "+-------------------------+----+---------+------------+----------+------+------------+-----+------+------------+-------------+------------+\n"
     ]
    }
   ]
  },
  {
   "cell_type": "code",
   "metadata": {
    "colab": {
     "base_uri": "https://localhost:8080/"
    },
    "id": "dGaQS_pOwx_b",
    "outputId": "9ece0a43-da9e-4b92-e17a-c66d1f9cb989"
   },
   "source": [
    "from pyspark.sql.functions import concat\n",
    "df = df.withColumn('car_model', concat(col(\"Car\"), lit(\" \"), col(\"model\")))\n",
    "df.show(5,truncate=False)"
   ],
   "execution_count": null,
   "outputs": [
    {
     "output_type": "stream",
     "name": "stdout",
     "text": [
      "+-------------------------+----+---------+------------+----------+------+------------+-----+------+------------+-------------+------------+----------------------------+\n",
      "|Car                      |MPG |Cylinders|Displacement|Horsepower|Weight|Acceleration|Model|Origin|first_column|second_column|third_column|car_model                   |\n",
      "+-------------------------+----+---------+------------+----------+------+------------+-----+------+------------+-------------+------------+----------------------------+\n",
      "|Chevrolet Chevelle Malibu|18.0|8        |307.0       |130.0     |3504.0|12.0        |70   |US    |1           |2            |Third Column|Chevrolet Chevelle Malibu 70|\n",
      "|Buick Skylark 320        |15.0|8        |350.0       |165.0     |3693.0|11.5        |70   |US    |1           |2            |Third Column|Buick Skylark 320 70        |\n",
      "|Plymouth Satellite       |18.0|8        |318.0       |150.0     |3436.0|11.0        |70   |US    |1           |2            |Third Column|Plymouth Satellite 70       |\n",
      "|AMC Rebel SST            |16.0|8        |304.0       |150.0     |3433.0|12.0        |70   |US    |1           |2            |Third Column|AMC Rebel SST 70            |\n",
      "|Ford Torino              |17.0|8        |302.0       |140.0     |3449.0|10.5        |70   |US    |1           |2            |Third Column|Ford Torino 70              |\n",
      "+-------------------------+----+---------+------------+----------+------+------------+-----+------+------------+-------------+------------+----------------------------+\n"
     ]
    }
   ]
  },
  {
   "cell_type": "code",
   "metadata": {
    "id": "QJqgy6lKfk2o",
    "colab": {
     "base_uri": "https://localhost:8080/"
    },
    "outputId": "f9a0369f-e920-4c59-c482-eb85d14f7803"
   },
   "source": [
    "df = df.withColumnRenamed('first_column', 'new_column_one') \\\n",
    "       .withColumnRenamed('second_column', 'new_column_two') \\\n",
    "       .withColumnRenamed('third_column', 'new_column_three')\n",
    "df.show(truncate=False)"
   ],
   "execution_count": null,
   "outputs": [
    {
     "output_type": "stream",
     "name": "stdout",
     "text": [
      "+--------------------------------+----+---------+------------+----------+------+------------+-----+------+--------------+--------------+----------------+-----------------------------------+\n",
      "|Car                             |MPG |Cylinders|Displacement|Horsepower|Weight|Acceleration|Model|Origin|new_column_one|new_column_two|new_column_three|car_model                          |\n",
      "+--------------------------------+----+---------+------------+----------+------+------------+-----+------+--------------+--------------+----------------+-----------------------------------+\n",
      "|Chevrolet Chevelle Malibu       |18.0|8        |307.0       |130.0     |3504.0|12.0        |70   |US    |1             |2             |Third Column    |Chevrolet Chevelle Malibu 70       |\n",
      "|Buick Skylark 320               |15.0|8        |350.0       |165.0     |3693.0|11.5        |70   |US    |1             |2             |Third Column    |Buick Skylark 320 70               |\n",
      "|Plymouth Satellite              |18.0|8        |318.0       |150.0     |3436.0|11.0        |70   |US    |1             |2             |Third Column    |Plymouth Satellite 70              |\n",
      "|AMC Rebel SST                   |16.0|8        |304.0       |150.0     |3433.0|12.0        |70   |US    |1             |2             |Third Column    |AMC Rebel SST 70                   |\n",
      "|Ford Torino                     |17.0|8        |302.0       |140.0     |3449.0|10.5        |70   |US    |1             |2             |Third Column    |Ford Torino 70                     |\n",
      "|Ford Galaxie 500                |15.0|8        |429.0       |198.0     |4341.0|10.0        |70   |US    |1             |2             |Third Column    |Ford Galaxie 500 70                |\n",
      "|Chevrolet Impala                |14.0|8        |454.0       |220.0     |4354.0|9.0         |70   |US    |1             |2             |Third Column    |Chevrolet Impala 70                |\n",
      "|Plymouth Fury iii               |14.0|8        |440.0       |215.0     |4312.0|8.5         |70   |US    |1             |2             |Third Column    |Plymouth Fury iii 70               |\n",
      "|Pontiac Catalina                |14.0|8        |455.0       |225.0     |4425.0|10.0        |70   |US    |1             |2             |Third Column    |Pontiac Catalina 70                |\n",
      "|AMC Ambassador DPL              |15.0|8        |390.0       |190.0     |3850.0|8.5         |70   |US    |1             |2             |Third Column    |AMC Ambassador DPL 70              |\n",
      "|Citroen DS-21 Pallas            |0.0 |4        |133.0       |115.0     |3090.0|17.5        |70   |Europe|1             |2             |Third Column    |Citroen DS-21 Pallas 70            |\n",
      "|Chevrolet Chevelle Concours (sw)|0.0 |8        |350.0       |165.0     |4142.0|11.5        |70   |US    |1             |2             |Third Column    |Chevrolet Chevelle Concours (sw) 70|\n",
      "|Ford Torino (sw)                |0.0 |8        |351.0       |153.0     |4034.0|11.0        |70   |US    |1             |2             |Third Column    |Ford Torino (sw) 70                |\n",
      "|Plymouth Satellite (sw)         |0.0 |8        |383.0       |175.0     |4166.0|10.5        |70   |US    |1             |2             |Third Column    |Plymouth Satellite (sw) 70         |\n",
      "|AMC Rebel SST (sw)              |0.0 |8        |360.0       |175.0     |3850.0|11.0        |70   |US    |1             |2             |Third Column    |AMC Rebel SST (sw) 70              |\n",
      "|Dodge Challenger SE             |15.0|8        |383.0       |170.0     |3563.0|10.0        |70   |US    |1             |2             |Third Column    |Dodge Challenger SE 70             |\n",
      "|Plymouth 'Cuda 340              |14.0|8        |340.0       |160.0     |3609.0|8.0         |70   |US    |1             |2             |Third Column    |Plymouth 'Cuda 340 70              |\n",
      "|Ford Mustang Boss 302           |0.0 |8        |302.0       |140.0     |3353.0|8.0         |70   |US    |1             |2             |Third Column    |Ford Mustang Boss 302 70           |\n",
      "|Chevrolet Monte Carlo           |15.0|8        |400.0       |150.0     |3761.0|9.5         |70   |US    |1             |2             |Third Column    |Chevrolet Monte Carlo 70           |\n",
      "|Buick Estate Wagon (sw)         |14.0|8        |455.0       |225.0     |3086.0|10.0        |70   |US    |1             |2             |Third Column    |Buick Estate Wagon (sw) 70         |\n",
      "+--------------------------------+----+---------+------------+----------+------+------------+-----+------+--------------+--------------+----------------+-----------------------------------+\n"
     ]
    }
   ]
  },
  {
   "cell_type": "code",
   "metadata": {
    "id": "M1ek2opVfqea",
    "colab": {
     "base_uri": "https://localhost:8080/"
    },
    "outputId": "c52c6fd9-b7be-4272-f360-4c649e2c6508"
   },
   "source": [
    "df.groupBy('Origin').count().show(5)"
   ],
   "execution_count": null,
   "outputs": [
    {
     "output_type": "stream",
     "name": "stdout",
     "text": [
      "+------+-----+\n",
      "|Origin|count|\n",
      "+------+-----+\n",
      "|Europe|   73|\n",
      "|    US|  254|\n",
      "| Japan|   79|\n",
      "+------+-----+\n"
     ]
    }
   ]
  },
  {
   "cell_type": "code",
   "metadata": {
    "colab": {
     "base_uri": "https://localhost:8080/"
    },
    "id": "hUh_TWcOysoL",
    "outputId": "824c3091-8809-4f7d-c166-7537f40aac1c"
   },
   "source": [
    "df.groupBy('Origin', 'Model').count().show(5)"
   ],
   "execution_count": null,
   "outputs": [
    {
     "output_type": "stream",
     "name": "stdout",
     "text": [
      "+------+-----+-----+\n",
      "|Origin|Model|count|\n",
      "+------+-----+-----+\n",
      "|Europe|   71|    5|\n",
      "|Europe|   80|    9|\n",
      "|Europe|   79|    4|\n",
      "| Japan|   75|    4|\n",
      "|    US|   72|   18|\n",
      "+------+-----+-----+\n"
     ]
    }
   ]
  },
  {
   "cell_type": "code",
   "metadata": {
    "id": "xsb9PXxpfnmh",
    "colab": {
     "base_uri": "https://localhost:8080/"
    },
    "outputId": "3928df82-a6b5-493a-82e7-dbb4f4a2e41b"
   },
   "source": [
    "df = df.drop('new_column_one')\n",
    "df.show(5,truncate=False)"
   ],
   "execution_count": null,
   "outputs": [
    {
     "output_type": "stream",
     "name": "stdout",
     "text": [
      "+-------------------------+----+---------+------------+----------+------+------------+-----+------+--------------+----------------+----------------------------+\n",
      "|Car                      |MPG |Cylinders|Displacement|Horsepower|Weight|Acceleration|Model|Origin|new_column_two|new_column_three|car_model                   |\n",
      "+-------------------------+----+---------+------------+----------+------+------------+-----+------+--------------+----------------+----------------------------+\n",
      "|Chevrolet Chevelle Malibu|18.0|8        |307.0       |130.0     |3504.0|12.0        |70   |US    |2             |Third Column    |Chevrolet Chevelle Malibu 70|\n",
      "|Buick Skylark 320        |15.0|8        |350.0       |165.0     |3693.0|11.5        |70   |US    |2             |Third Column    |Buick Skylark 320 70        |\n",
      "|Plymouth Satellite       |18.0|8        |318.0       |150.0     |3436.0|11.0        |70   |US    |2             |Third Column    |Plymouth Satellite 70       |\n",
      "|AMC Rebel SST            |16.0|8        |304.0       |150.0     |3433.0|12.0        |70   |US    |2             |Third Column    |AMC Rebel SST 70            |\n",
      "|Ford Torino              |17.0|8        |302.0       |140.0     |3449.0|10.5        |70   |US    |2             |Third Column    |Ford Torino 70              |\n",
      "+-------------------------+----+---------+------------+----------+------+------------+-----+------+--------------+----------------+----------------------------+\n"
     ]
    }
   ]
  },
  {
   "cell_type": "code",
   "metadata": {
    "colab": {
     "base_uri": "https://localhost:8080/"
    },
    "id": "EKOXrXtvzK_0",
    "outputId": "389ee593-9607-4c49-c758-4dfc784e1de8"
   },
   "source": [
    "df = df.drop('new_column_two') \\\n",
    "       .drop('new_column_three')\n",
    "df.show(5,truncate=False)"
   ],
   "execution_count": null,
   "outputs": [
    {
     "output_type": "stream",
     "name": "stdout",
     "text": [
      "+-------------------------+----+---------+------------+----------+------+------------+-----+------+----------------------------+\n",
      "|Car                      |MPG |Cylinders|Displacement|Horsepower|Weight|Acceleration|Model|Origin|car_model                   |\n",
      "+-------------------------+----+---------+------------+----------+------+------------+-----+------+----------------------------+\n",
      "|Chevrolet Chevelle Malibu|18.0|8        |307.0       |130.0     |3504.0|12.0        |70   |US    |Chevrolet Chevelle Malibu 70|\n",
      "|Buick Skylark 320        |15.0|8        |350.0       |165.0     |3693.0|11.5        |70   |US    |Buick Skylark 320 70        |\n",
      "|Plymouth Satellite       |18.0|8        |318.0       |150.0     |3436.0|11.0        |70   |US    |Plymouth Satellite 70       |\n",
      "|AMC Rebel SST            |16.0|8        |304.0       |150.0     |3433.0|12.0        |70   |US    |AMC Rebel SST 70            |\n",
      "|Ford Torino              |17.0|8        |302.0       |140.0     |3449.0|10.5        |70   |US    |Ford Torino 70              |\n",
      "+-------------------------+----+---------+------------+----------+------+------------+-----+------+----------------------------+\n"
     ]
    }
   ]
  },
  {
   "cell_type": "code",
   "metadata": {
    "id": "YNfcjOIknA3n",
    "colab": {
     "base_uri": "https://localhost:8080/"
    },
    "outputId": "2753ed17-dfa8-423c-d96e-3559827ecffb"
   },
   "source": [
    "total_count = df.count()\n",
    "print(\"Количество авто: \" + str(total_count))\n",
    "europe_filtered_count = df.filter(col('Origin')=='Europe').count()\n",
    "print(\"Количество авто из европы: \" + str(europe_filtered_count))\n",
    "df.filter(col('Origin')=='Europe').show(truncate=False)"
   ],
   "execution_count": null,
   "outputs": [
    {
     "output_type": "stream",
     "name": "stdout",
     "text": [
      "Количество авто: 406\n",
      "Количество авто из европы: 73\n",
      "+----------------------------+----+---------+------------+----------+------+------------+-----+------+-------------------------------+\n",
      "|Car                         |MPG |Cylinders|Displacement|Horsepower|Weight|Acceleration|Model|Origin|car_model                      |\n",
      "+----------------------------+----+---------+------------+----------+------+------------+-----+------+-------------------------------+\n",
      "|Citroen DS-21 Pallas        |0.0 |4        |133.0       |115.0     |3090.0|17.5        |70   |Europe|Citroen DS-21 Pallas 70        |\n",
      "|Volkswagen 1131 Deluxe Sedan|26.0|4        |97.0        |46.0      |1835.0|20.5        |70   |Europe|Volkswagen 1131 Deluxe Sedan 70|\n",
      "|Peugeot 504                 |25.0|4        |110.0       |87.0      |2672.0|17.5        |70   |Europe|Peugeot 504 70                 |\n",
      "|Audi 100 LS                 |24.0|4        |107.0       |90.0      |2430.0|14.5        |70   |Europe|Audi 100 LS 70                 |\n",
      "|Saab 99e                    |25.0|4        |104.0       |95.0      |2375.0|17.5        |70   |Europe|Saab 99e 70                    |\n",
      "|BMW 2002                    |26.0|4        |121.0       |113.0     |2234.0|12.5        |70   |Europe|BMW 2002 70                    |\n",
      "|Volkswagen Super Beetle 117 |0.0 |4        |97.0        |48.0      |1978.0|20.0        |71   |Europe|Volkswagen Super Beetle 117 71 |\n",
      "|Opel 1900                   |28.0|4        |116.0       |90.0      |2123.0|14.0        |71   |Europe|Opel 1900 71                   |\n",
      "|Peugeot 304                 |30.0|4        |79.0        |70.0      |2074.0|19.5        |71   |Europe|Peugeot 304 71                 |\n",
      "|Fiat 124B                   |30.0|4        |88.0        |76.0      |2065.0|14.5        |71   |Europe|Fiat 124B 71                   |\n",
      "|Volkswagen Model 111        |27.0|4        |97.0        |60.0      |1834.0|19.0        |71   |Europe|Volkswagen Model 111 71        |\n",
      "|Volkswagen Type 3           |23.0|4        |97.0        |54.0      |2254.0|23.5        |72   |Europe|Volkswagen Type 3 72           |\n",
      "|Volvo 145e (sw)             |18.0|4        |121.0       |112.0     |2933.0|14.5        |72   |Europe|Volvo 145e (sw) 72             |\n",
      "|Volkswagen 411 (sw)         |22.0|4        |121.0       |76.0      |2511.0|18.0        |72   |Europe|Volkswagen 411 (sw) 72         |\n",
      "|Peugeot 504 (sw)            |21.0|4        |120.0       |87.0      |2979.0|19.5        |72   |Europe|Peugeot 504 (sw) 72            |\n",
      "|Renault 12 (sw)             |26.0|4        |96.0        |69.0      |2189.0|18.0        |72   |Europe|Renault 12 (sw) 72             |\n",
      "|Volkswagen Super Beetle     |26.0|4        |97.0        |46.0      |1950.0|21.0        |73   |Europe|Volkswagen Super Beetle 73     |\n",
      "|Fiat 124 Sport Coupe        |26.0|4        |98.0        |90.0      |2265.0|15.5        |73   |Europe|Fiat 124 Sport Coupe 73        |\n",
      "|Fiat 128                    |29.0|4        |68.0        |49.0      |1867.0|19.5        |73   |Europe|Fiat 128 73                    |\n",
      "|Opel Manta                  |24.0|4        |116.0       |75.0      |2158.0|15.5        |73   |Europe|Opel Manta 73                  |\n",
      "+----------------------------+----+---------+------------+----------+------+------------+-----+------+-------------------------------+\n",
      "only showing top 20 rows\n"
     ]
    }
   ]
  },
  {
   "cell_type": "code",
   "metadata": {
    "colab": {
     "base_uri": "https://localhost:8080/"
    },
    "id": "MXJxRwBQ1lyd",
    "outputId": "b4c74ccb-8b75-4cfb-f83b-4a2b2a018750"
   },
   "source": [
    "total_count = df.count()\n",
    "print(\"Количество авто: \" + str(total_count))\n",
    "europe_filtered_count = df.filter((col('Origin')=='Europe') &\n",
    "                                  (col('Cylinders')==4)).count()\n",
    "print(\"Количество авто из европы: \" + str(europe_filtered_count))\n",
    "df.filter(col('Origin')=='Europe').show(truncate=False)"
   ],
   "execution_count": null,
   "outputs": [
    {
     "output_type": "stream",
     "name": "stdout",
     "text": [
      "Количество авто: 406\n",
      "Количество авто из европы: 66\n",
      "+----------------------------+----+---------+------------+----------+------+------------+-----+------+-------------------------------+\n",
      "|Car                         |MPG |Cylinders|Displacement|Horsepower|Weight|Acceleration|Model|Origin|car_model                      |\n",
      "+----------------------------+----+---------+------------+----------+------+------------+-----+------+-------------------------------+\n",
      "|Citroen DS-21 Pallas        |0.0 |4        |133.0       |115.0     |3090.0|17.5        |70   |Europe|Citroen DS-21 Pallas 70        |\n",
      "|Volkswagen 1131 Deluxe Sedan|26.0|4        |97.0        |46.0      |1835.0|20.5        |70   |Europe|Volkswagen 1131 Deluxe Sedan 70|\n",
      "|Peugeot 504                 |25.0|4        |110.0       |87.0      |2672.0|17.5        |70   |Europe|Peugeot 504 70                 |\n",
      "|Audi 100 LS                 |24.0|4        |107.0       |90.0      |2430.0|14.5        |70   |Europe|Audi 100 LS 70                 |\n",
      "|Saab 99e                    |25.0|4        |104.0       |95.0      |2375.0|17.5        |70   |Europe|Saab 99e 70                    |\n",
      "|BMW 2002                    |26.0|4        |121.0       |113.0     |2234.0|12.5        |70   |Europe|BMW 2002 70                    |\n",
      "|Volkswagen Super Beetle 117 |0.0 |4        |97.0        |48.0      |1978.0|20.0        |71   |Europe|Volkswagen Super Beetle 117 71 |\n",
      "|Opel 1900                   |28.0|4        |116.0       |90.0      |2123.0|14.0        |71   |Europe|Opel 1900 71                   |\n",
      "|Peugeot 304                 |30.0|4        |79.0        |70.0      |2074.0|19.5        |71   |Europe|Peugeot 304 71                 |\n",
      "|Fiat 124B                   |30.0|4        |88.0        |76.0      |2065.0|14.5        |71   |Europe|Fiat 124B 71                   |\n",
      "|Volkswagen Model 111        |27.0|4        |97.0        |60.0      |1834.0|19.0        |71   |Europe|Volkswagen Model 111 71        |\n",
      "|Volkswagen Type 3           |23.0|4        |97.0        |54.0      |2254.0|23.5        |72   |Europe|Volkswagen Type 3 72           |\n",
      "|Volvo 145e (sw)             |18.0|4        |121.0       |112.0     |2933.0|14.5        |72   |Europe|Volvo 145e (sw) 72             |\n",
      "|Volkswagen 411 (sw)         |22.0|4        |121.0       |76.0      |2511.0|18.0        |72   |Europe|Volkswagen 411 (sw) 72         |\n",
      "|Peugeot 504 (sw)            |21.0|4        |120.0       |87.0      |2979.0|19.5        |72   |Europe|Peugeot 504 (sw) 72            |\n",
      "|Renault 12 (sw)             |26.0|4        |96.0        |69.0      |2189.0|18.0        |72   |Europe|Renault 12 (sw) 72             |\n",
      "|Volkswagen Super Beetle     |26.0|4        |97.0        |46.0      |1950.0|21.0        |73   |Europe|Volkswagen Super Beetle 73     |\n",
      "|Fiat 124 Sport Coupe        |26.0|4        |98.0        |90.0      |2265.0|15.5        |73   |Europe|Fiat 124 Sport Coupe 73        |\n",
      "|Fiat 128                    |29.0|4        |68.0        |49.0      |1867.0|19.5        |73   |Europe|Fiat 128 73                    |\n",
      "|Opel Manta                  |24.0|4        |116.0       |75.0      |2158.0|15.5        |73   |Europe|Opel Manta 73                  |\n",
      "+----------------------------+----+---------+------------+----------+------+------------+-----+------+-------------------------------+\n",
      "only showing top 20 rows\n"
     ]
    }
   ]
  },
  {
   "cell_type": "code",
   "metadata": {
    "id": "B1RKg1UrmBQz",
    "colab": {
     "base_uri": "https://localhost:8080/"
    },
    "outputId": "746ba280-d5f2-4ced-f2ba-f75b35f785cc"
   },
   "source": [
    "\n",
    "df.select('Origin').distinct().show()"
   ],
   "execution_count": null,
   "outputs": [
    {
     "output_type": "stream",
     "name": "stdout",
     "text": [
      "+------+\n",
      "|Origin|\n",
      "+------+\n",
      "|Europe|\n",
      "|    US|\n",
      "| Japan|\n",
      "+------+\n"
     ]
    }
   ]
  },
  {
   "cell_type": "code",
   "metadata": {
    "colab": {
     "base_uri": "https://localhost:8080/"
    },
    "id": "_LQWXPXt0g0N",
    "outputId": "905488df-c293-47b2-dad9-3169841de9fa"
   },
   "source": [
    "\n",
    "df.select('Origin','model').distinct().show()"
   ],
   "execution_count": null,
   "outputs": [
    {
     "output_type": "stream",
     "name": "stdout",
     "text": [
      "+------+-----+\n",
      "|Origin|model|\n",
      "+------+-----+\n",
      "|Europe|   71|\n",
      "|Europe|   80|\n",
      "|Europe|   79|\n",
      "| Japan|   75|\n",
      "|    US|   72|\n",
      "|    US|   80|\n",
      "|Europe|   74|\n",
      "| Japan|   79|\n",
      "|Europe|   76|\n",
      "|    US|   75|\n",
      "| Japan|   77|\n",
      "|    US|   82|\n",
      "| Japan|   80|\n",
      "| Japan|   78|\n",
      "|    US|   78|\n",
      "|Europe|   75|\n",
      "|    US|   71|\n",
      "|    US|   77|\n",
      "| Japan|   70|\n",
      "| Japan|   71|\n",
      "+------+-----+\n"
     ]
    }
   ]
  },
  {
   "cell_type": "code",
   "metadata": {
    "id": "4ZpeJvz0nkBI",
    "colab": {
     "base_uri": "https://localhost:8080/"
    },
    "outputId": "fbd54c77-4746-4393-9b92-cc0b971b639c"
   },
   "source": [
    "df.orderBy('Cylinders').show(truncate=False)"
   ],
   "execution_count": null,
   "outputs": [
    {
     "output_type": "stream",
     "name": "stdout",
     "text": [
      "+----------------------------+----+---------+------------+----------+------+------------+-----+------+-------------------------------+\n",
      "|Car                         |MPG |Cylinders|Displacement|Horsepower|Weight|Acceleration|Model|Origin|car_model                      |\n",
      "+----------------------------+----+---------+------------+----------+------+------------+-----+------+-------------------------------+\n",
      "|Mazda RX2 Coupe             |19.0|3        |70.0        |97.0      |2330.0|13.5        |72   |Japan |Mazda RX2 Coupe 72             |\n",
      "|Mazda RX3                   |18.0|3        |70.0        |90.0      |2124.0|13.5        |73   |Japan |Mazda RX3 73                   |\n",
      "|Mazda RX-4                  |21.5|3        |80.0        |110.0     |2720.0|13.5        |77   |Japan |Mazda RX-4 77                  |\n",
      "|Mazda RX-7 GS               |23.7|3        |70.0        |100.0     |2420.0|12.5        |80   |Japan |Mazda RX-7 GS 80               |\n",
      "|Datsun 510 (sw)             |28.0|4        |97.0        |92.0      |2288.0|17.0        |72   |Japan |Datsun 510 (sw) 72             |\n",
      "|Mercury Capri 2000          |23.0|4        |122.0       |86.0      |2220.0|14.0        |71   |US    |Mercury Capri 2000 71          |\n",
      "|Chevrolet Vega (sw)         |22.0|4        |140.0       |72.0      |2408.0|19.0        |71   |US    |Chevrolet Vega (sw) 71         |\n",
      "|Opel 1900                   |28.0|4        |116.0       |90.0      |2123.0|14.0        |71   |Europe|Opel 1900 71                   |\n",
      "|Volkswagen 1131 Deluxe Sedan|26.0|4        |97.0        |46.0      |1835.0|20.5        |70   |Europe|Volkswagen 1131 Deluxe Sedan 70|\n",
      "|Peugeot 304                 |30.0|4        |79.0        |70.0      |2074.0|19.5        |71   |Europe|Peugeot 304 71                 |\n",
      "|Audi 100 LS                 |24.0|4        |107.0       |90.0      |2430.0|14.5        |70   |Europe|Audi 100 LS 70                 |\n",
      "|Fiat 124B                   |30.0|4        |88.0        |76.0      |2065.0|14.5        |71   |Europe|Fiat 124B 71                   |\n",
      "|BMW 2002                    |26.0|4        |121.0       |113.0     |2234.0|12.5        |70   |Europe|BMW 2002 70                    |\n",
      "|Toyota Corolla 1200         |31.0|4        |71.0        |65.0      |1773.0|19.0        |71   |Japan |Toyota Corolla 1200 71         |\n",
      "|Chevrolet Vega 2300         |28.0|4        |140.0       |90.0      |2264.0|15.5        |71   |US    |Chevrolet Vega 2300 71         |\n",
      "|Datsun 1200                 |35.0|4        |72.0        |69.0      |1613.0|18.0        |71   |Japan |Datsun 1200 71                 |\n",
      "|Ford Pinto                  |25.0|4        |98.0        |0.0       |2046.0|19.0        |71   |US    |Ford Pinto 71                  |\n",
      "|Volkswagen Model 111        |27.0|4        |97.0        |60.0      |1834.0|19.0        |71   |Europe|Volkswagen Model 111 71        |\n",
      "|Dodge Colt Hardtop          |25.0|4        |97.5        |80.0      |2126.0|17.0        |72   |US    |Dodge Colt Hardtop 72          |\n",
      "|Volkswagen Type 3           |23.0|4        |97.0        |54.0      |2254.0|23.5        |72   |Europe|Volkswagen Type 3 72           |\n",
      "+----------------------------+----+---------+------------+----------+------+------------+-----+------+-------------------------------+\n"
     ]
    }
   ]
  },
  {
   "cell_type": "code",
   "metadata": {
    "id": "v1CEwofMJV-D",
    "colab": {
     "base_uri": "https://localhost:8080/"
    },
    "outputId": "067cef77-4415-41c7-9808-6596f1f583cf"
   },
   "source": [
    "df.orderBy('Cylinders', ascending=False).show(truncate=False)"
   ],
   "execution_count": null,
   "outputs": [
    {
     "output_type": "stream",
     "name": "stdout",
     "text": [
      "+-------------------------+----+---------+------------+----------+------+------------+-----+------+----------------------------+\n",
      "|Car                      |MPG |Cylinders|Displacement|Horsepower|Weight|Acceleration|Model|Origin|car_model                   |\n",
      "+-------------------------+----+---------+------------+----------+------+------------+-----+------+----------------------------+\n",
      "|Plymouth 'Cuda 340       |14.0|8        |340.0       |160.0     |3609.0|8.0         |70   |US    |Plymouth 'Cuda 340 70       |\n",
      "|Pontiac Safari (sw)      |13.0|8        |400.0       |175.0     |5140.0|12.0        |71   |US    |Pontiac Safari (sw) 71      |\n",
      "|Ford Mustang Boss 302    |0.0 |8        |302.0       |140.0     |3353.0|8.0         |70   |US    |Ford Mustang Boss 302 70    |\n",
      "|Buick Skylark 320        |15.0|8        |350.0       |165.0     |3693.0|11.5        |70   |US    |Buick Skylark 320 70        |\n",
      "|Chevrolet Monte Carlo    |15.0|8        |400.0       |150.0     |3761.0|9.5         |70   |US    |Chevrolet Monte Carlo 70    |\n",
      "|AMC Rebel SST            |16.0|8        |304.0       |150.0     |3433.0|12.0        |70   |US    |AMC Rebel SST 70            |\n",
      "|Buick Estate Wagon (sw)  |14.0|8        |455.0       |225.0     |3086.0|10.0        |70   |US    |Buick Estate Wagon (sw) 70  |\n",
      "|Ford Galaxie 500         |15.0|8        |429.0       |198.0     |4341.0|10.0        |70   |US    |Ford Galaxie 500 70         |\n",
      "|Ford F250                |10.0|8        |360.0       |215.0     |4615.0|14.0        |70   |US    |Ford F250 70                |\n",
      "|Plymouth Fury iii        |14.0|8        |440.0       |215.0     |4312.0|8.5         |70   |US    |Plymouth Fury iii 70        |\n",
      "|Chevy C20                |10.0|8        |307.0       |200.0     |4376.0|15.0        |70   |US    |Chevy C20 70                |\n",
      "|AMC Ambassador DPL       |15.0|8        |390.0       |190.0     |3850.0|8.5         |70   |US    |AMC Ambassador DPL 70       |\n",
      "|Dodge D200               |11.0|8        |318.0       |210.0     |4382.0|13.5        |70   |US    |Dodge D200 70               |\n",
      "|Ford Torino (sw)         |0.0 |8        |351.0       |153.0     |4034.0|11.0        |70   |US    |Ford Torino (sw) 70         |\n",
      "|Hi 1200D                 |9.0 |8        |304.0       |193.0     |4732.0|18.5        |70   |US    |Hi 1200D 70                 |\n",
      "|AMC Rebel SST (sw)       |0.0 |8        |360.0       |175.0     |3850.0|11.0        |70   |US    |AMC Rebel SST (sw) 70       |\n",
      "|Chevrolet Impala         |14.0|8        |350.0       |165.0     |4209.0|12.0        |71   |US    |Chevrolet Impala 71         |\n",
      "|Chevrolet Chevelle Malibu|18.0|8        |307.0       |130.0     |3504.0|12.0        |70   |US    |Chevrolet Chevelle Malibu 70|\n",
      "|Pontiac Catalina Brougham|14.0|8        |400.0       |175.0     |4464.0|11.5        |71   |US    |Pontiac Catalina Brougham 71|\n",
      "|Ford Torino              |17.0|8        |302.0       |140.0     |3449.0|10.5        |70   |US    |Ford Torino 70              |\n",
      "+-------------------------+----+---------+------------+----------+------+------------+-----+------+----------------------------+\n"
     ]
    }
   ]
  },
  {
   "cell_type": "code",
   "metadata": {
    "colab": {
     "base_uri": "https://localhost:8080/"
    },
    "id": "Zx3W4aeL5A4O",
    "outputId": "99d92266-cd96-4970-b770-d94c663860d6"
   },
   "source": [
    "df.groupBy(\"Origin\").count().orderBy('count', ascending=False).show(10)"
   ],
   "execution_count": null,
   "outputs": [
    {
     "output_type": "stream",
     "name": "stdout",
     "text": [
      "+------+-----+\n",
      "|Origin|count|\n",
      "+------+-----+\n",
      "|    US|  254|\n",
      "| Japan|   79|\n",
      "|Europe|   73|\n",
      "+------+-----+\n"
     ]
    }
   ]
  },
  {
   "cell_type": "code",
   "metadata": {
    "id": "bCZIzfYmnx--",
    "colab": {
     "base_uri": "https://localhost:8080/"
    },
    "outputId": "ab8fb065-f798-41ea-c6af-4ced53775273"
   },
   "source": [
    "df = spark.read.csv('cars.csv', header=True, sep=\";\", inferSchema=True)\n",
    "europe_cars = df.filter((col('Origin')=='Europe') & (col('Cylinders')==5))\n",
    "japan_cars = df.filter((col('Origin')=='Japan') & (col('Cylinders')==3))\n",
    "\n",
    "print(\"EU: \"+str(europe_cars.count()))\n",
    "print(\"JP: \"+str(japan_cars.count()))\n",
    "print(\"Объединение: \"+str(europe_cars.union(japan_cars).count()))"
   ],
   "execution_count": null,
   "outputs": [
    {
     "output_type": "stream",
     "name": "stdout",
     "text": [
      "EU: 3\n",
      "JP: 4\n",
      "Объединение: 7\n"
     ]
    }
   ]
  },
  {
   "cell_type": "code",
   "metadata": {
    "id": "CjWjzWBoMxx0",
    "colab": {
     "base_uri": "https://localhost:8080/"
    },
    "outputId": "c09e765c-4e87-4b33-c485-931ac05c2a16"
   },
   "source": [
    "df1 = spark.createDataFrame([[1, 2, 3]], [\"col0\", \"col1\", \"col2\"])\n",
    "df2 = spark.createDataFrame([[4, 5, 6]], [\"col1\", \"col2\", \"col0\"])\n",
    "df1.unionByName(df2).show()"
   ],
   "execution_count": null,
   "outputs": [
    {
     "output_type": "stream",
     "name": "stdout",
     "text": [
      "+----+----+----+\n",
      "|col0|col1|col2|\n",
      "+----+----+----+\n",
      "|   1|   2|   3|\n",
      "|   6|   4|   5|\n",
      "+----+----+----+\n"
     ]
    }
   ]
  },
  {
   "cell_type": "code",
   "metadata": {
    "id": "x3vlC7ZerlKb",
    "colab": {
     "base_uri": "https://localhost:8080/"
    },
    "outputId": "6f79e4b0-76bf-4593-bb1d-136f2c2d4b33"
   },
   "source": [
    "\n",
    "from pyspark.sql import functions\n",
    "\n",
    "print(dir(functions))"
   ],
   "execution_count": null,
   "outputs": [
    {
     "output_type": "stream",
     "name": "stdout",
     "text": [
      "['Any', 'ArrayType', 'Callable', 'Column', 'DataFrame', 'DataType', 'Dict', 'Iterable', 'JVMView', 'List', 'Optional', 'PandasUDFType', 'PySparkTypeError', 'PySparkValueError', 'PythonEvalType', 'SparkContext', 'StringType', 'StructType', 'TYPE_CHECKING', 'Tuple', 'Union', 'UserDefinedFunction', 'ValuesView', '__builtins__', '__cached__', '__doc__', '__file__', '__loader__', '__name__', '__package__', '__spec__', '_create_column_from_literal', '_create_lambda', '_create_py_udf', '_from_numpy_type', '_get_jvm_function', '_get_lambda_parameters', '_invoke_binary_math_function', '_invoke_function', '_invoke_function_over_columns', '_invoke_function_over_seq_of_columns', '_invoke_higher_order_function', '_options_to_str', '_test', '_to_java_column', '_to_seq', '_unresolved_named_lambda_variable', 'abs', 'acos', 'acosh', 'add_months', 'aggregate', 'approxCountDistinct', 'approx_count_distinct', 'array', 'array_append', 'array_compact', 'array_contains', 'array_distinct', 'array_except', 'array_insert', 'array_intersect', 'array_join', 'array_max', 'array_min', 'array_position', 'array_remove', 'array_repeat', 'array_sort', 'array_union', 'arrays_overlap', 'arrays_zip', 'asc', 'asc_nulls_first', 'asc_nulls_last', 'ascii', 'asin', 'asinh', 'assert_true', 'atan', 'atan2', 'atanh', 'avg', 'base64', 'bin', 'bit_length', 'bitwiseNOT', 'bitwise_not', 'broadcast', 'bround', 'bucket', 'call_udf', 'cast', 'cbrt', 'ceil', 'coalesce', 'col', 'collect_list', 'collect_set', 'column', 'concat', 'concat_ws', 'conv', 'corr', 'cos', 'cosh', 'cot', 'count', 'countDistinct', 'count_distinct', 'covar_pop', 'covar_samp', 'crc32', 'create_map', 'csc', 'cume_dist', 'current_date', 'current_timestamp', 'date_add', 'date_format', 'date_sub', 'date_trunc', 'datediff', 'dayofmonth', 'dayofweek', 'dayofyear', 'days', 'decode', 'degrees', 'dense_rank', 'desc', 'desc_nulls_first', 'desc_nulls_last', 'element_at', 'encode', 'exists', 'exp', 'explode', 'explode_outer', 'expm1', 'expr', 'factorial', 'filter', 'first', 'flatten', 'floor', 'forall', 'format_number', 'format_string', 'from_csv', 'from_json', 'from_unixtime', 'from_utc_timestamp', 'functools', 'get', 'get_active_spark_context', 'get_json_object', 'greatest', 'grouping', 'grouping_id', 'has_numpy', 'hash', 'hex', 'hour', 'hours', 'hypot', 'initcap', 'inline', 'inline_outer', 'input_file_name', 'inspect', 'instr', 'isnan', 'isnull', 'json_tuple', 'kurtosis', 'lag', 'last', 'last_day', 'lead', 'least', 'length', 'levenshtein', 'lit', 'localtimestamp', 'locate', 'log', 'log10', 'log1p', 'log2', 'lower', 'lpad', 'ltrim', 'make_date', 'map_concat', 'map_contains_key', 'map_entries', 'map_filter', 'map_from_arrays', 'map_from_entries', 'map_keys', 'map_values', 'map_zip_with', 'max', 'max_by', 'md5', 'mean', 'median', 'min', 'min_by', 'minute', 'mode', 'monotonically_increasing_id', 'month', 'months', 'months_between', 'nanvl', 'next_day', 'np', 'nth_value', 'ntile', 'octet_length', 'overlay', 'overload', 'pandas_udf', 'percent_rank', 'percentile_approx', 'pmod', 'posexplode', 'posexplode_outer', 'pow', 'product', 'quarter', 'radians', 'raise_error', 'rand', 'randn', 'rank', 'regexp_extract', 'regexp_replace', 'repeat', 'reverse', 'rint', 'round', 'row_number', 'rpad', 'rtrim', 'schema_of_csv', 'schema_of_json', 'sec', 'second', 'sentences', 'sequence', 'session_window', 'sha1', 'sha2', 'shiftLeft', 'shiftRight', 'shiftRightUnsigned', 'shiftleft', 'shiftright', 'shiftrightunsigned', 'shuffle', 'signum', 'sin', 'sinh', 'size', 'skewness', 'slice', 'sort_array', 'soundex', 'spark_partition_id', 'split', 'sqrt', 'stddev', 'stddev_pop', 'stddev_samp', 'struct', 'substring', 'substring_index', 'sum', 'sumDistinct', 'sum_distinct', 'sys', 'tan', 'tanh', 'timestamp_seconds', 'toDegrees', 'toRadians', 'to_csv', 'to_date', 'to_json', 'to_str', 'to_timestamp', 'to_utc_timestamp', 'transform', 'transform_keys', 'transform_values', 'translate', 'trim', 'trunc', 'try_remote_functions', 'udf', 'unbase64', 'unhex', 'unix_timestamp', 'unwrap_udt', 'upper', 'var_pop', 'var_samp', 'variance', 'warnings', 'weekofyear', 'when', 'window', 'window_time', 'xxhash64', 'year', 'years', 'zip_with']\n"
     ]
    }
   ]
  },
  {
   "cell_type": "code",
   "metadata": {
    "id": "63QDccSjBqC4"
   },
   "source": [
    "\n",
    "from pyspark.sql.functions import col\n",
    "df = spark.read.csv('cars.csv', header=True, sep=\";\", inferSchema=True)"
   ],
   "execution_count": null,
   "outputs": []
  },
  {
   "cell_type": "code",
   "metadata": {
    "id": "52Gh9c99BZFr",
    "colab": {
     "base_uri": "https://localhost:8080/"
    },
    "outputId": "f2b746ae-2733-4025-af06-10e78ed99945"
   },
   "source": [
    "from pyspark.sql.functions import col,lower, upper, substring\n",
    "\n",
    "help(substring)\n",
    "\n",
    "df.select(col('Car'),lower(col('Car')),upper(col('Car')),substring(col('Car'),1,4).alias(\"concatenated value\")).show(5, False)"
   ],
   "execution_count": null,
   "outputs": [
    {
     "output_type": "stream",
     "name": "stdout",
     "text": [
      "Help on function substring in module pyspark.sql.functions:\n",
      "\n",
      "substring(str: 'ColumnOrName', pos: int, len: int) -> pyspark.sql.column.Column\n",
      "    Substring starts at `pos` and is of length `len` when str is String type or\n",
      "    returns the slice of byte array that starts at `pos` in byte and is of length `len`\n",
      "    when str is Binary type.\n",
      "    \n",
      "    .. versionadded:: 1.5.0\n",
      "    \n",
      "    .. versionchanged:: 3.4.0\n",
      "        Supports Spark Connect.\n",
      "    \n",
      "    Notes\n",
      "    -----\n",
      "    The position is not zero based, but 1 based index.\n",
      "    \n",
      "    Parameters\n",
      "    ----------\n",
      "    str : :class:`~pyspark.sql.Column` or str\n",
      "        target column to work on.\n",
      "    pos : int\n",
      "        starting position in str.\n",
      "    len : int\n",
      "        length of chars.\n",
      "    \n",
      "    Returns\n",
      "    -------\n",
      "    :class:`~pyspark.sql.Column`\n",
      "        substring of given value.\n",
      "    \n",
      "    Examples\n",
      "    --------\n",
      "    >>> df = spark.createDataFrame([('abcd',)], ['s',])\n",
      "    >>> df.select(substring(df.s, 1, 2).alias('s')).collect()\n",
      "    [Row(s='ab')]\n",
      "\n",
      "+-------------------------+-------------------------+-------------------------+------------------+\n",
      "|Car                      |lower(Car)               |upper(Car)               |concatenated value|\n",
      "+-------------------------+-------------------------+-------------------------+------------------+\n",
      "|Chevrolet Chevelle Malibu|chevrolet chevelle malibu|CHEVROLET CHEVELLE MALIBU|Chev              |\n",
      "|Buick Skylark 320        |buick skylark 320        |BUICK SKYLARK 320        |Buic              |\n",
      "|Plymouth Satellite       |plymouth satellite       |PLYMOUTH SATELLITE       |Plym              |\n",
      "|AMC Rebel SST            |amc rebel sst            |AMC REBEL SST            |AMC               |\n",
      "|Ford Torino              |ford torino              |FORD TORINO              |Ford              |\n",
      "+-------------------------+-------------------------+-------------------------+------------------+\n",
      "only showing top 5 rows\n"
     ]
    }
   ]
  },
  {
   "cell_type": "code",
   "metadata": {
    "colab": {
     "base_uri": "https://localhost:8080/"
    },
    "id": "8Lo951Cg6phi",
    "outputId": "811560fc-0413-429d-e15b-c7999ef6e299"
   },
   "source": [
    "from pyspark.sql.functions import concat\n",
    "df.select(col(\"Car\"),col(\"model\"),concat(col(\"Car\"), lit(\" \"), col(\"model\"))).show(5, False)"
   ],
   "execution_count": null,
   "outputs": [
    {
     "output_type": "stream",
     "name": "stdout",
     "text": [
      "+-------------------------+-----+----------------------------+\n",
      "|Car                      |model|concat(Car,  , model)       |\n",
      "+-------------------------+-----+----------------------------+\n",
      "|Chevrolet Chevelle Malibu|70   |Chevrolet Chevelle Malibu 70|\n",
      "|Buick Skylark 320        |70   |Buick Skylark 320 70        |\n",
      "|Plymouth Satellite       |70   |Plymouth Satellite 70       |\n",
      "|AMC Rebel SST            |70   |AMC Rebel SST 70            |\n",
      "|Ford Torino              |70   |Ford Torino 70              |\n",
      "+-------------------------+-----+----------------------------+\n"
     ]
    }
   ]
  },
  {
   "cell_type": "code",
   "metadata": {
    "id": "wBDDH-YpBbdk",
    "colab": {
     "base_uri": "https://localhost:8080/"
    },
    "outputId": "e4e99a1c-a230-4758-8824-9a610d6533c8"
   },
   "source": [
    "from pyspark.sql.functions import min, max\n",
    "df.select(min(col('Weight')), max(col('Weight'))).show()"
   ],
   "execution_count": null,
   "outputs": [
    {
     "output_type": "stream",
     "name": "stdout",
     "text": [
      "+-----------+-----------+\n",
      "|min(Weight)|max(Weight)|\n",
      "+-----------+-----------+\n",
      "|       1613|       5140|\n",
      "+-----------+-----------+\n"
     ]
    }
   ]
  },
  {
   "cell_type": "code",
   "metadata": {
    "colab": {
     "base_uri": "https://localhost:8080/"
    },
    "id": "YeiemMsI7Vm2",
    "outputId": "bbf9379d-4f37-46eb-8754-d524174a29ef"
   },
   "source": [
    "from pyspark.sql.functions import min, max, lit\n",
    "df.select(min(col('Weight'))+lit(10), max(col('Weight')+lit(10))).show()"
   ],
   "execution_count": null,
   "outputs": [
    {
     "output_type": "stream",
     "name": "stdout",
     "text": [
      "+------------------+------------------+\n",
      "|(min(Weight) + 10)|max((Weight + 10))|\n",
      "+------------------+------------------+\n",
      "|              1623|              5150|\n",
      "+------------------+------------------+\n"
     ]
    }
   ]
  },
  {
   "cell_type": "code",
   "metadata": {
    "id": "sCTeI_JvDCsH",
    "colab": {
     "base_uri": "https://localhost:8080/"
    },
    "outputId": "a0aeca28-a353-446b-ac50-dad8c84ac35d"
   },
   "source": [
    "from pyspark.sql.functions import to_date, to_timestamp, lit\n",
    "df = spark.createDataFrame([('2019-12-25 13:30:00',)], ['DOB'])\n",
    "df.show()\n",
    "df.printSchema()"
   ],
   "execution_count": null,
   "outputs": [
    {
     "output_type": "stream",
     "name": "stdout",
     "text": [
      "+-------------------+\n",
      "|                DOB|\n",
      "+-------------------+\n",
      "|2019-12-25 13:30:00|\n",
      "+-------------------+\n",
      "\n",
      "root\n",
      " |-- DOB: string (nullable = true)\n"
     ]
    }
   ]
  },
  {
   "cell_type": "code",
   "metadata": {
    "id": "ZH8ja1eHEW8x",
    "colab": {
     "base_uri": "https://localhost:8080/"
    },
    "outputId": "9d79d741-70f6-48df-e6ba-5ec5042b9266"
   },
   "source": [
    "df = spark.createDataFrame([('2019-12-25 13:30:00',)], ['DOB'])\n",
    "df = df.select(to_date(col('DOB'),'yyyy-MM-dd HH:mm:ss'), to_timestamp(col('DOB'),'yyyy-MM-dd HH:mm:ss'))\n",
    "df.show()\n",
    "df.printSchema()"
   ],
   "execution_count": null,
   "outputs": [
    {
     "output_type": "stream",
     "name": "stdout",
     "text": [
      "+---------------------------------+--------------------------------------+\n",
      "|to_date(DOB, yyyy-MM-dd HH:mm:ss)|to_timestamp(DOB, yyyy-MM-dd HH:mm:ss)|\n",
      "+---------------------------------+--------------------------------------+\n",
      "|                       2019-12-25|                   2019-12-25 13:30:00|\n",
      "+---------------------------------+--------------------------------------+\n",
      "\n",
      "root\n",
      " |-- to_date(DOB, yyyy-MM-dd HH:mm:ss): date (nullable = true)\n",
      " |-- to_timestamp(DOB, yyyy-MM-dd HH:mm:ss): timestamp (nullable = true)\n"
     ]
    }
   ]
  },
  {
   "cell_type": "code",
   "metadata": {
    "id": "7g9m_8PPErI1",
    "colab": {
     "base_uri": "https://localhost:8080/"
    },
    "outputId": "a7e48b2c-3519-451c-a919-8cc746597ae6"
   },
   "source": [
    "df = spark.createDataFrame([('25/Dec/2019 13:30:00',)], ['DOB'])\n",
    "df = df.select(to_date(col('DOB'),'dd/MMM/yyyy HH:mm:ss'), to_timestamp(col('DOB'),'dd/MMM/yyyy HH:mm:ss'))\n",
    "df.show()\n",
    "df.printSchema()"
   ],
   "execution_count": null,
   "outputs": [
    {
     "output_type": "stream",
     "name": "stdout",
     "text": [
      "+----------------------------------+---------------------------------------+\n",
      "|to_date(DOB, dd/MMM/yyyy HH:mm:ss)|to_timestamp(DOB, dd/MMM/yyyy HH:mm:ss)|\n",
      "+----------------------------------+---------------------------------------+\n",
      "|                        2019-12-25|                    2019-12-25 13:30:00|\n",
      "+----------------------------------+---------------------------------------+\n",
      "\n",
      "root\n",
      " |-- to_date(DOB, dd/MMM/yyyy HH:mm:ss): date (nullable = true)\n",
      " |-- to_timestamp(DOB, dd/MMM/yyyy HH:mm:ss): timestamp (nullable = true)\n"
     ]
    }
   ]
  },
  {
   "cell_type": "code",
   "metadata": {
    "colab": {
     "base_uri": "https://localhost:8080/"
    },
    "id": "PUCEwQkZ-I7h",
    "outputId": "06100c33-9909-4809-9990-5d3a8cd6f33d"
   },
   "source": [
    "from pyspark.sql.functions import date_add, date_sub\n",
    "\n",
    "df = spark.createDataFrame([('1990-01-01',),('1995-01-03',),('2021-03-30',)], ['Date'])\n",
    "\n",
    "df.select(date_add(max(col('Date')),3), date_sub(min(col('Date')),3)).show()"
   ],
   "execution_count": null,
   "outputs": [
    {
     "output_type": "stream",
     "name": "stdout",
     "text": [
      "+----------------------+----------------------+\n",
      "|date_add(max(Date), 3)|date_sub(min(Date), 3)|\n",
      "+----------------------+----------------------+\n",
      "|            2021-04-02|            1989-12-29|\n",
      "+----------------------+----------------------+\n"
     ]
    }
   ]
  },
  {
   "cell_type": "markdown",
   "metadata": {
    "id": "7OZElEvcGOD1"
   },
   "source": [
    "## Joins в PySpark"
   ]
  },
  {
   "cell_type": "code",
   "metadata": {
    "id": "UJBC7r3JFyCL",
    "colab": {
     "base_uri": "https://localhost:8080/"
    },
    "outputId": "a8211a2b-ed3c-4656-aa33-7b99b2059f54"
   },
   "source": [
    "\n",
    "cars_df = spark.createDataFrame([[1, 'Car A'],[2, 'Car B'],[3, 'Car C']], [\"id\", \"car_name\"])\n",
    "car_price_df = spark.createDataFrame([[1, 1000],[2, 2000],[3, 3000]], [\"id\", \"car_price\"])\n",
    "cars_df.show()\n",
    "car_price_df.show()"
   ],
   "execution_count": null,
   "outputs": [
    {
     "output_type": "stream",
     "name": "stdout",
     "text": [
      "+---+--------+\n",
      "| id|car_name|\n",
      "+---+--------+\n",
      "|  1|   Car A|\n",
      "|  2|   Car B|\n",
      "|  3|   Car C|\n",
      "+---+--------+\n",
      "\n",
      "+---+---------+\n",
      "| id|car_price|\n",
      "+---+---------+\n",
      "|  1|     1000|\n",
      "|  2|     2000|\n",
      "|  3|     3000|\n",
      "+---+---------+\n"
     ]
    }
   ]
  },
  {
   "cell_type": "code",
   "metadata": {
    "id": "U7Py4EYyKJTN",
    "colab": {
     "base_uri": "https://localhost:8080/"
    },
    "outputId": "5905ac62-d353-4dfb-8aed-ddf89921ca81"
   },
   "source": [
    "\n",
    "cars_df.join(car_price_df, cars_df.id == car_price_df.id, 'inner').select(cars_df['id'],cars_df['car_name'],car_price_df['car_price']).show(truncate=False)"
   ],
   "execution_count": null,
   "outputs": [
    {
     "output_type": "stream",
     "name": "stdout",
     "text": [
      "+---+--------+---------+\n",
      "|id |car_name|car_price|\n",
      "+---+--------+---------+\n",
      "|1  |Car A   |1000     |\n",
      "|2  |Car B   |2000     |\n",
      "|3  |Car C   |3000     |\n",
      "+---+--------+---------+\n"
     ]
    }
   ]
  },
  {
   "cell_type": "markdown",
   "metadata": {
    "id": "HNPhsx8P2tUH"
   },
   "source": [
    "<a id='spark-sql'></a>\n",
    "## Spark SQL"
   ]
  },
  {
   "cell_type": "code",
   "metadata": {
    "id": "g2DaK9-D7QkX",
    "colab": {
     "base_uri": "https://localhost:8080/"
    },
    "outputId": "a71fe4eb-d705-4cf6-8218-e70934004713"
   },
   "source": [
    "# Load data\n",
    "df = spark.read.csv('cars.csv', header=True, sep=\";\")\n",
    "# Register Temporary Table\n",
    "df.createOrReplaceTempView(\"temp\")\n",
    "# Select all data from temp table\n",
    "spark.sql(\"select * from temp limit 5\").show()\n",
    "# Select count of data in table\n",
    "spark.sql(\"select count(*) as total_count from temp\").show()"
   ],
   "execution_count": null,
   "outputs": [
    {
     "output_type": "stream",
     "name": "stdout",
     "text": [
      "+--------------------+----+---------+------------+----------+------+------------+-----+------+\n",
      "|                 Car| MPG|Cylinders|Displacement|Horsepower|Weight|Acceleration|Model|Origin|\n",
      "+--------------------+----+---------+------------+----------+------+------------+-----+------+\n",
      "|Chevrolet Chevell...|18.0|        8|       307.0|     130.0| 3504.|        12.0|   70|    US|\n",
      "|   Buick Skylark 320|15.0|        8|       350.0|     165.0| 3693.|        11.5|   70|    US|\n",
      "|  Plymouth Satellite|18.0|        8|       318.0|     150.0| 3436.|        11.0|   70|    US|\n",
      "|       AMC Rebel SST|16.0|        8|       304.0|     150.0| 3433.|        12.0|   70|    US|\n",
      "|         Ford Torino|17.0|        8|       302.0|     140.0| 3449.|        10.5|   70|    US|\n",
      "+--------------------+----+---------+------------+----------+------+------------+-----+------+\n",
      "\n",
      "+-----------+\n",
      "|total_count|\n",
      "+-----------+\n",
      "|        406|\n",
      "+-----------+\n"
     ]
    }
   ]
  },
  {
   "cell_type": "markdown",
   "metadata": {
    "id": "x62BiCgBMOtq"
   },
   "source": [
    "## RDD (Resilient Distributed Dataset)"
   ]
  },
  {
   "cell_type": "code",
   "metadata": {
    "id": "0_WvAgyvR7m6",
    "colab": {
     "base_uri": "https://localhost:8080/"
    },
    "outputId": "9cf8c735-ae7e-478c-c211-7144b126cecd"
   },
   "source": [
    "cars = spark.sparkContext.textFile('cars.csv')\n",
    "print(cars.first())\n",
    "cars_header = cars.first()\n",
    "cars_rest = cars.filter(lambda line: line!=cars_header)\n",
    "print(cars_rest.first())"
   ],
   "execution_count": null,
   "outputs": [
    {
     "output_type": "stream",
     "name": "stdout",
     "text": [
      "Car;MPG;Cylinders;Displacement;Horsepower;Weight;Acceleration;Model;Origin\n",
      "Chevrolet Chevelle Malibu;18.0;8;307.0;130.0;3504.;12.0;70;US\n"
     ]
    }
   ]
  },
  {
   "cell_type": "code",
   "metadata": {
    "id": "Vi03EU0CMSmO",
    "colab": {
     "base_uri": "https://localhost:8080/"
    },
    "outputId": "d0cc2b4c-8892-4183-80d3-2449d19a133e"
   },
   "source": [
    "cars_rest.map(lambda line: line.split(\";\")).count()"
   ],
   "execution_count": null,
   "outputs": [
    {
     "output_type": "execute_result",
     "data": {
      "text/plain": [
       "406"
      ]
     },
     "metadata": {},
     "execution_count": 57
    }
   ]
  },
  {
   "cell_type": "code",
   "metadata": {
    "id": "fWFpo_WxMnvm",
    "colab": {
     "base_uri": "https://localhost:8080/"
    },
    "outputId": "8341bc43-f658-4f9e-a167-f5d25c15d2ed"
   },
   "source": [
    "\n",
    "(cars_rest.filter(lambda line: line.split(\";\")[8]=='Europe').\n",
    " map(lambda line: (line.split(\";\")[0],\n",
    "    line.split(\";\")[1],\n",
    "    line.split(\";\")[2],\n",
    "    line.split(\";\")[5],\n",
    "    line.split(\";\")[8])).collect())"
   ],
   "execution_count": null,
   "outputs": [
    {
     "output_type": "execute_result",
     "data": {
      "text/plain": [
       "[('Citroen DS-21 Pallas', '0', '4', '3090.', 'Europe'),\n",
       " ('Volkswagen 1131 Deluxe Sedan', '26.0', '4', '1835.', 'Europe'),\n",
       " ('Peugeot 504', '25.0', '4', '2672.', 'Europe'),\n",
       " ('Audi 100 LS', '24.0', '4', '2430.', 'Europe'),\n",
       " ('Saab 99e', '25.0', '4', '2375.', 'Europe'),\n",
       " ('BMW 2002', '26.0', '4', '2234.', 'Europe'),\n",
       " ('Volkswagen Super Beetle 117', '0', '4', '1978.', 'Europe'),\n",
       " ('Opel 1900', '28.0', '4', '2123.', 'Europe'),\n",
       " ('Peugeot 304', '30.0', '4', '2074.', 'Europe'),\n",
       " ('Fiat 124B', '30.0', '4', '2065.', 'Europe'),\n",
       " ('Volkswagen Model 111', '27.0', '4', '1834.', 'Europe'),\n",
       " ('Volkswagen Type 3', '23.0', '4', '2254.', 'Europe'),\n",
       " ('Volvo 145e (sw)', '18.0', '4', '2933.', 'Europe'),\n",
       " ('Volkswagen 411 (sw)', '22.0', '4', '2511.', 'Europe'),\n",
       " ('Peugeot 504 (sw)', '21.0', '4', '2979.', 'Europe'),\n",
       " ('Renault 12 (sw)', '26.0', '4', '2189.', 'Europe'),\n",
       " ('Volkswagen Super Beetle', '26.0', '4', '1950.', 'Europe'),\n",
       " ('Fiat 124 Sport Coupe', '26.0', '4', '2265.', 'Europe'),\n",
       " ('Fiat 128', '29.0', '4', '1867.', 'Europe'),\n",
       " ('Opel Manta', '24.0', '4', '2158.', 'Europe'),\n",
       " ('Audi 100LS', '20.0', '4', '2582.', 'Europe'),\n",
       " ('Volvo 144ea', '19.0', '4', '2868.', 'Europe'),\n",
       " ('Saab 99le', '24.0', '4', '2660.', 'Europe'),\n",
       " ('Audi Fox', '29.0', '4', '2219.', 'Europe'),\n",
       " ('Volkswagen Dasher', '26.0', '4', '1963.', 'Europe'),\n",
       " ('Opel Manta', '26.0', '4', '2300.', 'Europe'),\n",
       " ('Fiat 128', '24.0', '4', '2108.', 'Europe'),\n",
       " ('Fiat 124 TC', '26.0', '4', '2246.', 'Europe'),\n",
       " ('Fiat x1.9', '31.0', '4', '2000.', 'Europe'),\n",
       " ('Volkswagen Dasher', '25.0', '4', '2223.', 'Europe'),\n",
       " ('Volkswagen Rabbit', '29.0', '4', '1937.', 'Europe'),\n",
       " ('Audi 100LS', '23.0', '4', '2694.', 'Europe'),\n",
       " ('Peugeot 504', '23.0', '4', '2957.', 'Europe'),\n",
       " ('Volvo 244DL', '22.0', '4', '2945.', 'Europe'),\n",
       " ('Saab 99LE', '25.0', '4', '2671.', 'Europe'),\n",
       " ('Fiat 131', '28.0', '4', '2464.', 'Europe'),\n",
       " ('Opel 1900', '25.0', '4', '2220.', 'Europe'),\n",
       " ('Renault 12tl', '27.0', '4', '2202.', 'Europe'),\n",
       " ('Volkswagen Rabbit', '29.0', '4', '1937.', 'Europe'),\n",
       " ('Volkswagen Rabbit', '29.5', '4', '1825.', 'Europe'),\n",
       " ('Volvo 245', '20.0', '4', '3150.', 'Europe'),\n",
       " ('Peugeot 504', '19.0', '4', '3270.', 'Europe'),\n",
       " ('Mercedes-Benz 280s', '16.5', '6', '3820.', 'Europe'),\n",
       " ('Renault 5 GTL', '36.0', '4', '1825.', 'Europe'),\n",
       " ('Volkswagen Rabbit Custom', '29.0', '4', '1940.', 'Europe'),\n",
       " ('Volkswagen Dasher', '30.5', '4', '2190.', 'Europe'),\n",
       " ('BMW 320i', '21.5', '4', '2600.', 'Europe'),\n",
       " ('Volkswagen Rabbit Custom Diesel', '43.1', '4', '1985.', 'Europe'),\n",
       " ('Audi 5000', '20.3', '5', '2830.', 'Europe'),\n",
       " ('Volvo 264gl', '17.0', '6', '3140.', 'Europe'),\n",
       " ('Saab 99gle', '21.6', '4', '2795.', 'Europe'),\n",
       " ('Peugeot 604sl', '16.2', '6', '3410.', 'Europe'),\n",
       " ('Volkswagen Scirocco', '31.5', '4', '1990.', 'Europe'),\n",
       " ('Volkswagen Rabbit Custom', '31.9', '4', '1925.', 'Europe'),\n",
       " ('Mercedes Benz 300d', '25.4', '5', '3530.', 'Europe'),\n",
       " ('Peugeot 504', '27.2', '4', '3190.', 'Europe'),\n",
       " ('Fiat Strada Custom', '37.3', '4', '2130.', 'Europe'),\n",
       " ('Volkswagen Rabbit', '41.5', '4', '2144.', 'Europe'),\n",
       " ('Audi 4000', '34.3', '4', '2188.', 'Europe'),\n",
       " ('Volkswagen Rabbit C (Diesel)', '44.3', '4', '2085.', 'Europe'),\n",
       " ('Volkswagen Dasher (diesel)', '43.4', '4', '2335.', 'Europe'),\n",
       " ('Audi 5000s (diesel)', '36.4', '5', '2950.', 'Europe'),\n",
       " ('Mercedes-Benz 240d', '30.0', '4', '3250.', 'Europe'),\n",
       " ('Renault Lecar Deluxe', '40.9', '4', '1835.', 'Europe'),\n",
       " ('Volkswagen Rabbit', '29.8', '4', '1845.', 'Europe'),\n",
       " ('Triumph TR7 Coupe', '35.0', '4', '2500.', 'Europe'),\n",
       " ('Volkswagen Jetta', '33.0', '4', '2190.', 'Europe'),\n",
       " ('Renault 18i', '34.5', '4', '2320.', 'Europe'),\n",
       " ('Peugeot 505s Turbo Diesel', '28.1', '4', '3230.', 'Europe'),\n",
       " ('Saab 900s', '0', '4', '2800.', 'Europe'),\n",
       " ('Volvo Diesel', '30.7', '6', '3160.', 'Europe'),\n",
       " ('Volkswagen Rabbit l', '36.0', '4', '1980.', 'Europe'),\n",
       " ('Volkswagen Pickup', '44.0', '4', '2130.', 'Europe')]"
      ]
     },
     "metadata": {},
     "execution_count": 59
    }
   ]
  },
  {
   "cell_type": "code",
   "metadata": {
    "id": "6ZcRIX3mMquF",
    "colab": {
     "base_uri": "https://localhost:8080/"
    },
    "outputId": "98200e12-1e20-42c8-ffe8-6c3324b6b6fb"
   },
   "source": [
    "\n",
    "(cars_rest.filter(lambda line: line.split(\";\")[8] in ['Europe','Japan']).\n",
    " map(lambda line: (line.split(\";\")[0],\n",
    "    line.split(\";\")[1],\n",
    "    line.split(\";\")[2],\n",
    "    line.split(\";\")[5],\n",
    "    line.split(\";\")[8])).collect())"
   ],
   "execution_count": null,
   "outputs": [
    {
     "output_type": "execute_result",
     "data": {
      "text/plain": [
       "[('Citroen DS-21 Pallas', '0', '4', '3090.', 'Europe'),\n",
       " ('Toyota Corolla Mark ii', '24.0', '4', '2372.', 'Japan'),\n",
       " ('Datsun PL510', '27.0', '4', '2130.', 'Japan'),\n",
       " ('Volkswagen 1131 Deluxe Sedan', '26.0', '4', '1835.', 'Europe'),\n",
       " ('Peugeot 504', '25.0', '4', '2672.', 'Europe'),\n",
       " ('Audi 100 LS', '24.0', '4', '2430.', 'Europe'),\n",
       " ('Saab 99e', '25.0', '4', '2375.', 'Europe'),\n",
       " ('BMW 2002', '26.0', '4', '2234.', 'Europe'),\n",
       " ('Datsun PL510', '27.0', '4', '2130.', 'Japan'),\n",
       " ('Toyota Corolla', '25.0', '4', '2228.', 'Japan'),\n",
       " ('Volkswagen Super Beetle 117', '0', '4', '1978.', 'Europe'),\n",
       " ('Opel 1900', '28.0', '4', '2123.', 'Europe'),\n",
       " ('Peugeot 304', '30.0', '4', '2074.', 'Europe'),\n",
       " ('Fiat 124B', '30.0', '4', '2065.', 'Europe'),\n",
       " ('Toyota Corolla 1200', '31.0', '4', '1773.', 'Japan'),\n",
       " ('Datsun 1200', '35.0', '4', '1613.', 'Japan'),\n",
       " ('Volkswagen Model 111', '27.0', '4', '1834.', 'Europe'),\n",
       " ('Toyota Corolla Hardtop', '24.0', '4', '2278.', 'Japan'),\n",
       " ('Volkswagen Type 3', '23.0', '4', '2254.', 'Europe'),\n",
       " ('Mazda RX2 Coupe', '19.0', '3', '2330.', 'Japan'),\n",
       " ('Volvo 145e (sw)', '18.0', '4', '2933.', 'Europe'),\n",
       " ('Volkswagen 411 (sw)', '22.0', '4', '2511.', 'Europe'),\n",
       " ('Peugeot 504 (sw)', '21.0', '4', '2979.', 'Europe'),\n",
       " ('Renault 12 (sw)', '26.0', '4', '2189.', 'Europe'),\n",
       " ('Datsun 510 (sw)', '28.0', '4', '2288.', 'Japan'),\n",
       " ('Toyota Corolla Mark II (sw)', '23.0', '4', '2506.', 'Japan'),\n",
       " ('Toyota Corolla 1600 (sw)', '27.0', '4', '2100.', 'Japan'),\n",
       " ('Volkswagen Super Beetle', '26.0', '4', '1950.', 'Europe'),\n",
       " ('Toyota Camry', '20.0', '4', '2279.', 'Japan'),\n",
       " ('Datsun 610', '22.0', '4', '2379.', 'Japan'),\n",
       " ('Mazda RX3', '18.0', '3', '2124.', 'Japan'),\n",
       " ('Fiat 124 Sport Coupe', '26.0', '4', '2265.', 'Europe'),\n",
       " ('Fiat 128', '29.0', '4', '1867.', 'Europe'),\n",
       " ('Opel Manta', '24.0', '4', '2158.', 'Europe'),\n",
       " ('Audi 100LS', '20.0', '4', '2582.', 'Europe'),\n",
       " ('Volvo 144ea', '19.0', '4', '2868.', 'Europe'),\n",
       " ('Saab 99le', '24.0', '4', '2660.', 'Europe'),\n",
       " ('Toyota Mark II', '20.0', '6', '2807.', 'Japan'),\n",
       " ('Datsun B210', '31.0', '4', '1950.', 'Japan'),\n",
       " ('Toyota Corolla 1200', '32.0', '4', '1836.', 'Japan'),\n",
       " ('Audi Fox', '29.0', '4', '2219.', 'Europe'),\n",
       " ('Volkswagen Dasher', '26.0', '4', '1963.', 'Europe'),\n",
       " ('Opel Manta', '26.0', '4', '2300.', 'Europe'),\n",
       " ('Toyota Corolla', '31.0', '4', '1649.', 'Japan'),\n",
       " ('Datsun 710', '32.0', '4', '2003.', 'Japan'),\n",
       " ('Fiat 128', '24.0', '4', '2108.', 'Europe'),\n",
       " ('Fiat 124 TC', '26.0', '4', '2246.', 'Europe'),\n",
       " ('Honda Civic', '24.0', '4', '2489.', 'Japan'),\n",
       " ('Subaru', '26.0', '4', '2391.', 'Japan'),\n",
       " ('Fiat x1.9', '31.0', '4', '2000.', 'Europe'),\n",
       " ('Toyota Corolla', '29.0', '4', '2171.', 'Japan'),\n",
       " ('Toyota Corolla', '24.0', '4', '2702.', 'Japan'),\n",
       " ('Volkswagen Dasher', '25.0', '4', '2223.', 'Europe'),\n",
       " ('Datsun 710', '24.0', '4', '2545.', 'Japan'),\n",
       " ('Volkswagen Rabbit', '29.0', '4', '1937.', 'Europe'),\n",
       " ('Audi 100LS', '23.0', '4', '2694.', 'Europe'),\n",
       " ('Peugeot 504', '23.0', '4', '2957.', 'Europe'),\n",
       " ('Volvo 244DL', '22.0', '4', '2945.', 'Europe'),\n",
       " ('Saab 99LE', '25.0', '4', '2671.', 'Europe'),\n",
       " ('Honda Civic CVCC', '33.0', '4', '1795.', 'Japan'),\n",
       " ('Fiat 131', '28.0', '4', '2464.', 'Europe'),\n",
       " ('Opel 1900', '25.0', '4', '2220.', 'Europe'),\n",
       " ('Renault 12tl', '27.0', '4', '2202.', 'Europe'),\n",
       " ('Volkswagen Rabbit', '29.0', '4', '1937.', 'Europe'),\n",
       " ('Honda Civic', '33.0', '4', '1795.', 'Japan'),\n",
       " ('Volkswagen Rabbit', '29.5', '4', '1825.', 'Europe'),\n",
       " ('Datsun B-210', '32.0', '4', '1990.', 'Japan'),\n",
       " ('Toyota Corolla', '28.0', '4', '2155.', 'Japan'),\n",
       " ('Volvo 245', '20.0', '4', '3150.', 'Europe'),\n",
       " ('Peugeot 504', '19.0', '4', '3270.', 'Europe'),\n",
       " ('Toyota Mark II', '19.0', '6', '2930.', 'Japan'),\n",
       " ('Mercedes-Benz 280s', '16.5', '6', '3820.', 'Europe'),\n",
       " ('Honda Accord CVCC', '31.5', '4', '2045.', 'Japan'),\n",
       " ('Renault 5 GTL', '36.0', '4', '1825.', 'Europe'),\n",
       " ('Datsun F-10 Hatchback', '33.5', '4', '1945.', 'Japan'),\n",
       " ('Volkswagen Rabbit Custom', '29.0', '4', '1940.', 'Europe'),\n",
       " ('Toyota Corolla Liftback', '26.0', '4', '2265.', 'Japan'),\n",
       " ('Subaru DL', '30.0', '4', '1985.', 'Japan'),\n",
       " ('Volkswagen Dasher', '30.5', '4', '2190.', 'Europe'),\n",
       " ('Datsun 810', '22.0', '6', '2815.', 'Japan'),\n",
       " ('BMW 320i', '21.5', '4', '2600.', 'Europe'),\n",
       " ('Mazda RX-4', '21.5', '3', '2720.', 'Japan'),\n",
       " ('Volkswagen Rabbit Custom Diesel', '43.1', '4', '1985.', 'Europe'),\n",
       " ('Mazda GLC Deluxe', '32.8', '4', '1985.', 'Japan'),\n",
       " ('Datsun B210 GX', '39.4', '4', '2070.', 'Japan'),\n",
       " ('Honda Civic CVCC', '36.1', '4', '1800.', 'Japan'),\n",
       " ('Toyota Corolla', '27.5', '4', '2560.', 'Japan'),\n",
       " ('Datsun 510', '27.2', '4', '2300.', 'Japan'),\n",
       " ('Toyota Celica GT Liftback', '21.1', '4', '2515.', 'Japan'),\n",
       " ('Datsun 200-SX', '23.9', '4', '2405.', 'Japan'),\n",
       " ('Audi 5000', '20.3', '5', '2830.', 'Europe'),\n",
       " ('Volvo 264gl', '17.0', '6', '3140.', 'Europe'),\n",
       " ('Saab 99gle', '21.6', '4', '2795.', 'Europe'),\n",
       " ('Peugeot 604sl', '16.2', '6', '3410.', 'Europe'),\n",
       " ('Volkswagen Scirocco', '31.5', '4', '1990.', 'Europe'),\n",
       " ('Honda Accord LX', '29.5', '4', '2135.', 'Japan'),\n",
       " ('Volkswagen Rabbit Custom', '31.9', '4', '1925.', 'Europe'),\n",
       " ('Mazda GLC Deluxe', '34.1', '4', '1975.', 'Japan'),\n",
       " ('Mercedes Benz 300d', '25.4', '5', '3530.', 'Europe'),\n",
       " ('Peugeot 504', '27.2', '4', '3190.', 'Europe'),\n",
       " ('Datsun 210', '31.8', '4', '2020.', 'Japan'),\n",
       " ('Fiat Strada Custom', '37.3', '4', '2130.', 'Europe'),\n",
       " ('Volkswagen Rabbit', '41.5', '4', '2144.', 'Europe'),\n",
       " ('Toyota Corolla Tercel', '38.1', '4', '1968.', 'Japan'),\n",
       " ('Datsun 310', '37.2', '4', '2019.', 'Japan'),\n",
       " ('Audi 4000', '34.3', '4', '2188.', 'Europe'),\n",
       " ('Toyota Corolla Liftback', '29.8', '4', '2711.', 'Japan'),\n",
       " ('Mazda 626', '31.3', '4', '2542.', 'Japan'),\n",
       " ('Datsun 510 Hatchback', '37.0', '4', '2434.', 'Japan'),\n",
       " ('Toyota Corolla', '32.2', '4', '2265.', 'Japan'),\n",
       " ('Mazda GLC', '46.6', '4', '2110.', 'Japan'),\n",
       " ('Datsun 210', '40.8', '4', '2110.', 'Japan'),\n",
       " ('Volkswagen Rabbit C (Diesel)', '44.3', '4', '2085.', 'Europe'),\n",
       " ('Volkswagen Dasher (diesel)', '43.4', '4', '2335.', 'Europe'),\n",
       " ('Audi 5000s (diesel)', '36.4', '5', '2950.', 'Europe'),\n",
       " ('Mercedes-Benz 240d', '30.0', '4', '3250.', 'Europe'),\n",
       " ('Honda Civic 1500 gl', '44.6', '4', '1850.', 'Japan'),\n",
       " ('Renault Lecar Deluxe', '40.9', '4', '1835.', 'Europe'),\n",
       " ('Subaru DL', '33.8', '4', '2145.', 'Japan'),\n",
       " ('Volkswagen Rabbit', '29.8', '4', '1845.', 'Europe'),\n",
       " ('Datsun 280-ZX', '32.7', '6', '2910.', 'Japan'),\n",
       " ('Mazda RX-7 GS', '23.7', '3', '2420.', 'Japan'),\n",
       " ('Triumph TR7 Coupe', '35.0', '4', '2500.', 'Europe'),\n",
       " ('Honda Accord', '32.4', '4', '2290.', 'Japan'),\n",
       " ('Toyota Starlet', '39.1', '4', '1755.', 'Japan'),\n",
       " ('Honda Civic 1300', '35.1', '4', '1760.', 'Japan'),\n",
       " ('Subaru', '32.3', '4', '2065.', 'Japan'),\n",
       " ('Datsun 210 MPG', '37.0', '4', '1975.', 'Japan'),\n",
       " ('Toyota Tercel', '37.7', '4', '2050.', 'Japan'),\n",
       " ('Mazda GLC 4', '34.1', '4', '1985.', 'Japan'),\n",
       " ('Volkswagen Jetta', '33.0', '4', '2190.', 'Europe'),\n",
       " ('Renault 18i', '34.5', '4', '2320.', 'Europe'),\n",
       " ('Honda Prelude', '33.7', '4', '2210.', 'Japan'),\n",
       " ('Toyota Corolla', '32.4', '4', '2350.', 'Japan'),\n",
       " ('Datsun 200SX', '32.9', '4', '2615.', 'Japan'),\n",
       " ('Mazda 626', '31.6', '4', '2635.', 'Japan'),\n",
       " ('Peugeot 505s Turbo Diesel', '28.1', '4', '3230.', 'Europe'),\n",
       " ('Saab 900s', '0', '4', '2800.', 'Europe'),\n",
       " ('Volvo Diesel', '30.7', '6', '3160.', 'Europe'),\n",
       " ('Toyota Cressida', '25.4', '6', '2900.', 'Japan'),\n",
       " ('Datsun 810 Maxima', '24.2', '6', '2930.', 'Japan'),\n",
       " ('Volkswagen Rabbit l', '36.0', '4', '1980.', 'Europe'),\n",
       " ('Mazda GLC Custom l', '37.0', '4', '2025.', 'Japan'),\n",
       " ('Mazda GLC Custom', '31.0', '4', '1970.', 'Japan'),\n",
       " ('Nissan Stanza XE', '36.0', '4', '2160.', 'Japan'),\n",
       " ('Honda Accord', '36.0', '4', '2205.', 'Japan'),\n",
       " ('Toyota Corolla', '34.0', '4', '2245', 'Japan'),\n",
       " ('Honda Civic', '38.0', '4', '1965.', 'Japan'),\n",
       " ('Honda Civic (auto)', '32.0', '4', '1965.', 'Japan'),\n",
       " ('Datsun 310 GX', '38.0', '4', '1995.', 'Japan'),\n",
       " ('Toyota Celica GT', '32.0', '4', '2665.', 'Japan'),\n",
       " ('Volkswagen Pickup', '44.0', '4', '2130.', 'Europe')]"
      ]
     },
     "metadata": {},
     "execution_count": 60
    }
   ]
  },
  {
   "cell_type": "code",
   "metadata": {
    "id": "TvzyL46QkJBl",
    "colab": {
     "base_uri": "https://localhost:8080/"
    },
    "outputId": "467c7c0b-a0c8-41d9-94a5-141b79c22d3c"
   },
   "source": [
    "from pyspark.sql import Row\n",
    "mylist = [\n",
    "  {\"name\":'Alice',\"age\":13},\n",
    "  {\"name\":'Jacob',\"age\":24},\n",
    "  {\"name\":'Betty',\"age\":135},\n",
    "]\n",
    "spark.createDataFrame(Row(**x) for x in mylist).show()"
   ],
   "execution_count": null,
   "outputs": [
    {
     "output_type": "stream",
     "name": "stdout",
     "text": [
      "+-----+---+\n",
      "| name|age|\n",
      "+-----+---+\n",
      "|Alice| 13|\n",
      "|Jacob| 24|\n",
      "|Betty|135|\n",
      "+-----+---+\n"
     ]
    }
   ]
  },
  {
   "cell_type": "code",
   "metadata": {
    "id": "wOuHRAPJmWen",
    "colab": {
     "base_uri": "https://localhost:8080/"
    },
    "outputId": "df760939-9f32-45b4-938f-be7ca9f43a85"
   },
   "source": [
    "from pyspark.sql import Row\n",
    "from pyspark.sql import Row\n",
    "mylist = [\n",
    "  {\"name\":'Alice',\"age\":5,\"height\":80},\n",
    "  {\"name\":'Jacob',\"age\":24,\"height\":80},\n",
    "  {\"name\":'Alice',\"age\":5,\"height\":80}\n",
    "]\n",
    "df = spark.createDataFrame(Row(**x) for x in mylist)\n",
    "df.dropDuplicates().show()"
   ],
   "execution_count": null,
   "outputs": [
    {
     "output_type": "stream",
     "name": "stdout",
     "text": [
      "+-----+---+------+\n",
      "| name|age|height|\n",
      "+-----+---+------+\n",
      "|Alice|  5|    80|\n",
      "|Jacob| 24|    80|\n",
      "+-----+---+------+\n"
     ]
    }
   ]
  },
  {
   "cell_type": "code",
   "metadata": {
    "id": "SHnFylV1n8to",
    "colab": {
     "base_uri": "https://localhost:8080/"
    },
    "outputId": "604361db-b966-4c95-84b7-aa0d0b5bada7"
   },
   "source": [
    "df.dropDuplicates(subset=['height']).show()"
   ],
   "execution_count": null,
   "outputs": [
    {
     "output_type": "stream",
     "name": "stdout",
     "text": [
      "+-----+---+------+\n",
      "| name|age|height|\n",
      "+-----+---+------+\n",
      "|Alice|  5|    80|\n",
      "+-----+---+------+\n"
     ]
    }
   ]
  }
 ]
}
